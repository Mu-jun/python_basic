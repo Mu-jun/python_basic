{
 "cells": [
  {
   "cell_type": "code",
   "execution_count": 1,
   "id": "0c28d7ff",
   "metadata": {},
   "outputs": [],
   "source": [
    "from urllib import request\n",
    "from bs4 import BeautifulSoup\n",
    "\n",
    "url = 'https://www.weather.go.kr/w/weather/forecast/mid-term.do'\n",
    "target = request.urlopen(url)\n",
    "soup = BeautifulSoup(target)"
   ]
  },
  {
   "cell_type": "code",
   "execution_count": 8,
   "id": "55735e9d",
   "metadata": {},
   "outputs": [
    {
     "name": "stdout",
     "output_type": "stream",
     "text": [
      "서울\t=> 최저기온 : 9  최고기온 : 14\n",
      "인천\t=> 최저기온 : 7  최고기온 : 12\n",
      "수원\t=> 최저기온 : 8  최고기온 : 14\n",
      "파주\t=> 최저기온 : 5  최고기온 : 14\n",
      "이천\t=> 최저기온 : 7  최고기온 : 16\n",
      "평택\t=> 최저기온 : 8  최고기온 : 15\n",
      "춘천\t=> 최저기온 : 5  최고기온 : 14\n",
      "원주\t=> 최저기온 : 8  최고기온 : 17\n",
      "강릉\t=> 최저기온 : 7  최고기온 : 13\n",
      "대전\t=> 최저기온 : 10 최고기온 : 17\n",
      "세종\t=> 최저기온 : 10 최고기온 : 16\n",
      "홍성\t=> 최저기온 : 9  최고기온 : 15\n",
      "청주\t=> 최저기온 : 11 최고기온 : 17\n",
      "충주\t=> 최저기온 : 7  최고기온 : 16\n",
      "영동\t=> 최저기온 : 9  최고기온 : 18\n",
      "광주\t=> 최저기온 : 10 최고기온 : 18\n",
      "목포\t=> 최저기온 : 8  최고기온 : 13\n",
      "여수\t=> 최저기온 : 10 최고기온 : 15\n",
      "순천\t=> 최저기온 : 11 최고기온 : 18\n",
      "광양\t=> 최저기온 : 11 최고기온 : 18\n",
      "나주\t=> 최저기온 : 8  최고기온 : 17\n",
      "전주\t=> 최저기온 : 9  최고기온 : 17\n",
      "군산\t=> 최저기온 : 9  최고기온 : 14\n",
      "정읍\t=> 최저기온 : 8  최고기온 : 16\n",
      "남원\t=> 최저기온 : 9  최고기온 : 19\n",
      "고창\t=> 최저기온 : 8  최고기온 : 14\n",
      "무주\t=> 최저기온 : 7  최고기온 : 18\n",
      "부산\t=> 최저기온 : 11 최고기온 : 16\n",
      "울산\t=> 최저기온 : 10 최고기온 : 16\n",
      "창원\t=> 최저기온 : 10 최고기온 : 16\n",
      "진주\t=> 최저기온 : 9  최고기온 : 19\n",
      "거창\t=> 최저기온 : 8  최고기온 : 19\n",
      "통영\t=> 최저기온 : 9  최고기온 : 15\n",
      "대구\t=> 최저기온 : 10 최고기온 : 19\n",
      "안동\t=> 최저기온 : 8  최고기온 : 17\n",
      "포항\t=> 최저기온 : 10 최고기온 : 15\n",
      "경주\t=> 최저기온 : 10 최고기온 : 17\n",
      "울진\t=> 최저기온 : 7  최고기온 : 11\n",
      "울릉도\t=> 최저기온 : 7  최고기온 : 11\n",
      "제주\t=> 최저기온 : 12 최고기온 : 16\n",
      "서귀포\t=> 최저기온 : 12 최고기온 : 18\n"
     ]
    }
   ],
   "source": [
    "# 각 지역의 최저/최고 기온을 출력\n",
    "for table in soup.findAll('table', class_='table-col'):\n",
    "    for line in table.findAll('tr'):\n",
    "        if line.find('td',class_='midterm-city'):\n",
    "            print(line.find('td',class_='midterm-city').get_text(),end='\\t=> ')\n",
    "            print('최저기온 : {:2}'.format(line.find('span',class_='tmn').get_text()),end=\" \")\n",
    "            print('최고기온 : {}'.format(line.find('span',class_='tmx').get_text()))"
   ]
  },
  {
   "cell_type": "code",
   "execution_count": 9,
   "id": "be1e127d",
   "metadata": {},
   "outputs": [],
   "source": [
    "# API를 활용한 Web 자료 검색\n",
    "import requests"
   ]
  },
  {
   "cell_type": "code",
   "execution_count": 14,
   "id": "ba8a3cd7",
   "metadata": {},
   "outputs": [],
   "source": [
    "text='''Yesterday\n",
    "All my troubles seemed so far away\n",
    "Now it looks as though they're here to stay\n",
    "Oh, I believe in yesterday\n",
    "Suddenly\n",
    "I'm not half the man I used to be\n",
    "There's a shadow hanging over me\n",
    "Oh, yesterday came suddenly\n",
    "Why she had to go, I don't know\n",
    "She wouldn't say\n",
    "I said something wrong\n",
    "Now I long for yesterday\n",
    "Yesterday\n",
    "Love was such an easy game to play\n",
    "Now I need a place to hide away\n",
    "Oh, I believe in yesterday\n",
    "Why she'''"
   ]
  },
  {
   "cell_type": "code",
   "execution_count": 19,
   "id": "4c4e04f7",
   "metadata": {},
   "outputs": [
    {
     "name": "stdout",
     "output_type": "stream",
     "text": [
      "<class 'requests.models.Response'>\n",
      "\n",
      "<class 'dict'>\n",
      "\n",
      "어제,\n",
      "내 모든 시름들이 멀리 사라져버린듯 했다\n",
      "이제 그들은 여기 머무르러 온 것처럼 보인다.\n",
      "오, 나는 어제를 다시 그리게 돼.\n",
      "갑자기\n",
      "예전의 나의 반도 안 되는구나.\n",
      "그림자가 드리워져 있어요\n",
      "오, 어제가 갑자기 왔다.\n",
      "왜 그녀가 가야만 했는지 모르겠어\n",
      "그녀는 말하지 않았다.\n",
      "내가 잘못 말했어.\n",
      "이제 나는 어제가 그립다.\n",
      "어제,\n",
      "사랑은 정말 하기 쉬운 게임이었다.\n",
      "이제 숨을 곳이 필요해\n",
      "오, 나는 어제를 다시 그리게 돼.\n",
      "왜그녀\n"
     ]
    }
   ],
   "source": [
    "url = \"https://openapi.naver.com/v1/papago/n2mt\"\n",
    "headers = {\"X-Naver-Client-Id\": \"BjaxuS6fchgujRXUHIvr\",\n",
    "           \"X-Naver-Client-Secret\": \"UOXt_4m8Nj\"}\n",
    "params = {'source':'en','target':'ko','text':text}\n",
    "response = requests.post(url, headers=headers, data=params)\n",
    "print(type(response))\n",
    "print()\n",
    "result = response.json() # Response - > json 추출\n",
    "print(type(result))\n",
    "print()\n",
    "trans_text = result['message']['result']['translatedText']\n",
    "print(trans_text)"
   ]
  },
  {
   "cell_type": "code",
   "execution_count": null,
   "id": "7f2775ea",
   "metadata": {},
   "outputs": [],
   "source": []
  }
 ],
 "metadata": {
  "kernelspec": {
   "display_name": "Python 3 (ipykernel)",
   "language": "python",
   "name": "python3"
  },
  "language_info": {
   "codemirror_mode": {
    "name": "ipython",
    "version": 3
   },
   "file_extension": ".py",
   "mimetype": "text/x-python",
   "name": "python",
   "nbconvert_exporter": "python",
   "pygments_lexer": "ipython3",
   "version": "3.9.7"
  }
 },
 "nbformat": 4,
 "nbformat_minor": 5
}
