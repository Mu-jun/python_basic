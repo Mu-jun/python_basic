{
 "cells": [
  {
   "cell_type": "code",
   "execution_count": 6,
   "id": "3dd0b48b",
   "metadata": {},
   "outputs": [
    {
     "name": "stdout",
     "output_type": "stream",
     "text": [
      "계산식을 입력하세요.(공백구분)종료하려면 q : q\n"
     ]
    }
   ],
   "source": [
    "while True :\n",
    "    input_data = input('계산식을 입력하세요.(공백구분)종료하려면 q : ').split()\n",
    "    num1 = input_data[0]\n",
    "\n",
    "    \n",
    "    if num1 == 'q':\n",
    "        break\n",
    "    elif len(input_data) < 3 :\n",
    "        continue\n",
    "        \n",
    "    buho = input_data[1]\n",
    "    num2 = input_data[2]\n",
    "    \n",
    "    if num1.isdigit() and num2.isdigit():\n",
    "        num1 = int(num1)\n",
    "        num2 = int(num2)\n",
    "    else:\n",
    "        continue\n",
    "        \n",
    "    if buho=='+' :\n",
    "        result =(num1+num2)\n",
    "    elif buho=='-' :\n",
    "        result =(num1-num2)\n",
    "    elif buho=='*' :\n",
    "        result =(num1*num2)\n",
    "    elif buho=='/' :\n",
    "        result =(num1/num2)\n",
    "    else:\n",
    "        continue\n",
    "        \n",
    "    print('{} {} {} = {}'.format(num1,buho,num2,result))"
   ]
  },
  {
   "cell_type": "code",
   "execution_count": 24,
   "id": "054d77ee",
   "metadata": {},
   "outputs": [
    {
     "name": "stdout",
     "output_type": "stream",
     "text": [
      "이름 성적 (공백구분) 종료 q: 나 10\n",
      "10\n",
      "[{'name': '나', 'grade': 10}]\n",
      "이름 성적 (공백구분) 종료 q: 너 20\n",
      "20\n",
      "[{'name': '나', 'grade': 10}, {'name': '너', 'grade': 20}]\n",
      "이름 성적 (공백구분) 종료 q: 우리 30\n",
      "30\n",
      "[{'name': '나', 'grade': 10}, {'name': '너', 'grade': 20}, {'name': '우리', 'grade': 30}]\n",
      "이름 성적 (공백구분) 종료 q: q\n",
      "학생수: 3명, 총합계: 60, 평균: 20.00\n"
     ]
    }
   ],
   "source": [
    "students = []\n",
    "\n",
    "while True :\n",
    "    student = {}\n",
    "    input_data = input('이름 성적 (공백구분) 종료 q: ').split()\n",
    "    name = input_data[0]\n",
    "    \n",
    "    if name == 'q':\n",
    "        break\n",
    "    elif len(input_data) < 2:\n",
    "        continue\n",
    "\n",
    "    \n",
    "    student['name'] = name\n",
    "    \n",
    "    if input_data[1].isdigit():\n",
    "        student['grade'] = int(input_data[1])\n",
    "    else:\n",
    "        print('성적입력에러')\n",
    "        continue\n",
    "    \n",
    "    students.append(student)\n",
    "    print(students)\n",
    "    \n",
    "total = 0\n",
    "count = len(students)\n",
    "\n",
    "if count == 0:\n",
    "    print('학생없음')\n",
    "else:    \n",
    "    for student in students:\n",
    "        total += student['grade']\n",
    "\n",
    "    print('학생수: {}명, 총합계: {}, 평균: {:3.2f}'.\\\n",
    "          format(count,total,total/count))"
   ]
  },
  {
   "cell_type": "code",
   "execution_count": 27,
   "id": "8a63e1c9",
   "metadata": {},
   "outputs": [
    {
     "name": "stdout",
     "output_type": "stream",
     "text": [
      "2550\n"
     ]
    }
   ],
   "source": [
    "print(sum([ i for i in range(100+1) if i%2==0]))\n"
   ]
  },
  {
   "cell_type": "code",
   "execution_count": 34,
   "id": "8f8e951d",
   "metadata": {},
   "outputs": [
    {
     "name": "stdout",
     "output_type": "stream",
     "text": [
      "[1, 4, 9]\n"
     ]
    }
   ],
   "source": [
    "list_a = [1,'a',2,'b',3,'c']\n",
    "list_int = [ i * i for i in list_a if type(i) == int ]\n",
    "print(list_int)"
   ]
  },
  {
   "cell_type": "code",
   "execution_count": 36,
   "id": "ae11283a",
   "metadata": {},
   "outputs": [
    {
     "name": "stdout",
     "output_type": "stream",
     "text": [
      "1 1\n",
      "4 a\n",
      "9 2\n"
     ]
    }
   ],
   "source": [
    "for a, b in zip(list_int, list_a):\n",
    "    print(a, b)"
   ]
  },
  {
   "cell_type": "code",
   "execution_count": 39,
   "id": "71c61a8b",
   "metadata": {},
   "outputs": [
    {
     "name": "stdout",
     "output_type": "stream",
     "text": [
      "[(1, 1), (4, 'a'), (9, 2)]\n"
     ]
    }
   ],
   "source": [
    "print(list(zip(list_int, list_a)))"
   ]
  },
  {
   "cell_type": "code",
   "execution_count": 40,
   "id": "6b6fffca",
   "metadata": {},
   "outputs": [
    {
     "name": "stdout",
     "output_type": "stream",
     "text": [
      "<list_reverseiterator object at 0x000002204E7EEA90>\n",
      "3\n",
      "2\n",
      "1\n"
     ]
    },
    {
     "ename": "StopIteration",
     "evalue": "",
     "output_type": "error",
     "traceback": [
      "\u001b[1;31m---------------------------------------------------------------------------\u001b[0m",
      "\u001b[1;31mStopIteration\u001b[0m                             Traceback (most recent call last)",
      "\u001b[1;32m~\\AppData\\Local\\Temp/ipykernel_8628/124762778.py\u001b[0m in \u001b[0;36m<module>\u001b[1;34m\u001b[0m\n\u001b[0;32m      6\u001b[0m \u001b[0mprint\u001b[0m\u001b[1;33m(\u001b[0m \u001b[0mnext\u001b[0m\u001b[1;33m(\u001b[0m \u001b[0mr_num\u001b[0m \u001b[1;33m)\u001b[0m \u001b[1;33m)\u001b[0m \u001b[1;31m# 2\u001b[0m\u001b[1;33m\u001b[0m\u001b[1;33m\u001b[0m\u001b[0m\n\u001b[0;32m      7\u001b[0m \u001b[0mprint\u001b[0m\u001b[1;33m(\u001b[0m \u001b[0mnext\u001b[0m\u001b[1;33m(\u001b[0m \u001b[0mr_num\u001b[0m \u001b[1;33m)\u001b[0m \u001b[1;33m)\u001b[0m \u001b[1;31m# 1\u001b[0m\u001b[1;33m\u001b[0m\u001b[1;33m\u001b[0m\u001b[0m\n\u001b[1;32m----> 8\u001b[1;33m \u001b[0mprint\u001b[0m\u001b[1;33m(\u001b[0m \u001b[0mnext\u001b[0m\u001b[1;33m(\u001b[0m \u001b[0mr_num\u001b[0m \u001b[1;33m)\u001b[0m \u001b[1;33m)\u001b[0m \u001b[1;31m# StopIterationError\u001b[0m\u001b[1;33m\u001b[0m\u001b[1;33m\u001b[0m\u001b[0m\n\u001b[0m",
      "\u001b[1;31mStopIteration\u001b[0m: "
     ]
    }
   ],
   "source": [
    "numbers = [1, 2, 3]\n",
    "r_num = reversed(numbers)\n",
    "\n",
    "print( r_num ) # <list_reverseiterator object at 메모리주소>\n",
    "print( next( r_num ) ) # 3\n",
    "print( next( r_num ) ) # 2\n",
    "print( next( r_num ) ) # 1\n",
    "print( next( r_num ) ) # StopIterationError"
   ]
  },
  {
   "cell_type": "code",
   "execution_count": null,
   "id": "c416e8c0",
   "metadata": {},
   "outputs": [],
   "source": []
  }
 ],
 "metadata": {
  "kernelspec": {
   "display_name": "Python 3 (ipykernel)",
   "language": "python",
   "name": "python3"
  },
  "language_info": {
   "codemirror_mode": {
    "name": "ipython",
    "version": 3
   },
   "file_extension": ".py",
   "mimetype": "text/x-python",
   "name": "python",
   "nbconvert_exporter": "python",
   "pygments_lexer": "ipython3",
   "version": "3.9.7"
  }
 },
 "nbformat": 4,
 "nbformat_minor": 5
}
