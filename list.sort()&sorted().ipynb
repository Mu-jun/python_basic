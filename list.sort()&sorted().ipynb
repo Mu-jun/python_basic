{
 "cells": [
  {
   "cell_type": "code",
   "execution_count": 6,
   "id": "c0da49d1",
   "metadata": {},
   "outputs": [
    {
     "name": "stdout",
     "output_type": "stream",
     "text": [
      "[3, 3, 4, 6, 6, 8, 9, 10]\n",
      "None\n"
     ]
    }
   ],
   "source": [
    "dict_data = {'b':123,'d':12,'a':5,'e':234,'c':24}\n",
    "list_data = [3,6,4,6,8,9,3,10]\n",
    "\n",
    "new_list = list_data.sort()\n",
    "\n",
    "print(list_data)\n",
    "print(new_list)"
   ]
  },
  {
   "cell_type": "code",
   "execution_count": 8,
   "id": "d006a4d3",
   "metadata": {},
   "outputs": [
    {
     "name": "stdout",
     "output_type": "stream",
     "text": [
      "[('e', 234), ('d', 12), ('c', 24), ('b', 123), ('a', 5)]\n"
     ]
    }
   ],
   "source": [
    "new_dict = sorted(dict_data.items(), reverse=True)\n",
    "print(new_dict)"
   ]
  },
  {
   "cell_type": "code",
   "execution_count": null,
   "id": "3063d514",
   "metadata": {},
   "outputs": [],
   "source": []
  }
 ],
 "metadata": {
  "kernelspec": {
   "display_name": "Python 3 (ipykernel)",
   "language": "python",
   "name": "python3"
  },
  "language_info": {
   "codemirror_mode": {
    "name": "ipython",
    "version": 3
   },
   "file_extension": ".py",
   "mimetype": "text/x-python",
   "name": "python",
   "nbconvert_exporter": "python",
   "pygments_lexer": "ipython3",
   "version": "3.9.7"
  }
 },
 "nbformat": 4,
 "nbformat_minor": 5
}
