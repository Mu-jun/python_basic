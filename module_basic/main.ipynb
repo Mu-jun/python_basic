{
 "cells": [
  {
   "cell_type": "code",
   "execution_count": 2,
   "id": "cd258c83",
   "metadata": {},
   "outputs": [
    {
     "name": "stdout",
     "output_type": "stream",
     "text": [
      "메인의 __name__ 출력 : __main__\n",
      "숫자 입력 : 10\n",
      "62.800000000000004\n",
      "314.0\n"
     ]
    }
   ],
   "source": [
    "import test_module as test\n",
    "\n",
    "radius = test.number_input()\n",
    "print(test.get_circumference(radius))\n",
    "print(test.get_circle_area(radius))"
   ]
  },
  {
   "cell_type": "code",
   "execution_count": null,
   "id": "f5083325",
   "metadata": {},
   "outputs": [],
   "source": []
  }
 ],
 "metadata": {
  "kernelspec": {
   "display_name": "Python 3 (ipykernel)",
   "language": "python",
   "name": "python3"
  },
  "language_info": {
   "codemirror_mode": {
    "name": "ipython",
    "version": 3
   },
   "file_extension": ".py",
   "mimetype": "text/x-python",
   "name": "python",
   "nbconvert_exporter": "python",
   "pygments_lexer": "ipython3",
   "version": "3.9.7"
  }
 },
 "nbformat": 4,
 "nbformat_minor": 5
}
