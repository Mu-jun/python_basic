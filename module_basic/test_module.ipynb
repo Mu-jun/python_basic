{
 "cells": [
  {
   "cell_type": "code",
   "execution_count": null,
   "id": "2e29ed38",
   "metadata": {},
   "outputs": [],
   "source": [
    "PI = 3.14\n",
    "\n",
    "def number_input():\n",
    "    output = input('숫자 입력 : ')\n",
    "    return float(output)\n",
    "\n",
    "def get_circumference(radius):\n",
    "    return 2 * PI * radius\n",
    "\n",
    "def get_circle_area(radius):\n",
    "    return PI * radius **2\n",
    "\n",
    "print('test_module의 __name__ :',__name__)\n",
    "if __name__ == '__main__':\n",
    "    print('test_module :',get_circumference(10))\n",
    "    print('test_module :',get_circle_area(10))"
   ]
  }
 ],
 "metadata": {
  "kernelspec": {
   "display_name": "Python 3 (ipykernel)",
   "language": "python",
   "name": "python3"
  },
  "language_info": {
   "codemirror_mode": {
    "name": "ipython",
    "version": 3
   },
   "file_extension": ".py",
   "mimetype": "text/x-python",
   "name": "python",
   "nbconvert_exporter": "python",
   "pygments_lexer": "ipython3",
   "version": "3.9.7"
  }
 },
 "nbformat": 4,
 "nbformat_minor": 5
}
