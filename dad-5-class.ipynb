{
 "cells": [
  {
   "cell_type": "code",
   "execution_count": 1,
   "id": "26663f6e",
   "metadata": {},
   "outputs": [
    {
     "name": "stdout",
     "output_type": "stream",
     "text": [
      "<__main__.Student object at 0x00000299334672E0>\n",
      "test 100\n",
      "홍길동 90\n",
      "김철수 80\n"
     ]
    }
   ],
   "source": [
    "# class 선언\n",
    "class Student:\n",
    "    def __init__(self, name, score):\n",
    "        self.name = name\n",
    "        self.score = score\n",
    "        \n",
    "    \n",
    "a = Student('test',100)\n",
    "print(a)\n",
    "print(a.name,a.score)\n",
    "\n",
    "students = [\n",
    "    Student('홍길동',90),\n",
    "    Student('김철수',80)\n",
    "]\n",
    "\n",
    "for student in students:\n",
    "    print(student.name, student.score)"
   ]
  },
  {
   "cell_type": "code",
   "execution_count": 2,
   "id": "1b04e99b",
   "metadata": {},
   "outputs": [
    {
     "name": "stdout",
     "output_type": "stream",
     "text": [
      " 생성자 입니다 \n"
     ]
    }
   ],
   "source": [
    "# 클래스의 생성자, 소멸자\n",
    "class Test:\n",
    "    def __init__(self):\n",
    "        print(\" 생성자 입니다 \")\n",
    "    \n",
    "    def __del__(self):\n",
    "        print(\" 소멸자 입니다 \")\n",
    "        \n",
    "test = Test()"
   ]
  },
  {
   "cell_type": "code",
   "execution_count": 3,
   "id": "3eacc11e",
   "metadata": {},
   "outputs": [],
   "source": [
    "# class 선언 : 멤버(변수), 메서드(함수)\n",
    "class Student:\n",
    "    def __init__(self, name, kor, eng, math):\n",
    "        self.name = name\n",
    "        self.kor = kor\n",
    "        self.eng = eng\n",
    "        self.math = math\n",
    "        \n",
    "    def get_sum(self):\n",
    "        return self.kor + self.eng + self.math\n",
    "    \n",
    "    def get_avg(self):\n",
    "        return self.get_sum() / 3\n",
    "    \n",
    "    def to_string(self):\n",
    "        return \"{}\\t{}\\t{:3.2f}\".format(self.name, self.get_sum(), self.get_avg())\n",
    "    "
   ]
  },
  {
   "cell_type": "code",
   "execution_count": 4,
   "id": "98232766",
   "metadata": {},
   "outputs": [
    {
     "name": "stdout",
     "output_type": "stream",
     "text": [
      "이름\t총점\t평균\n",
      "홍길동\t270\t90.00\n",
      "김철수\t282\t94.00\n",
      "개나리\t253\t84.33\n"
     ]
    }
   ],
   "source": [
    "students = [\n",
    "    Student('홍길동', 80, 90 ,100),\n",
    "    Student('김철수', 88, 95 ,99),\n",
    "    Student('개나리', 77, 77 ,99),\n",
    "]\n",
    "\n",
    "print(\"이름\",'총점','평균',sep='\\t')\n",
    "for student in students:\n",
    "    print(student.to_string())"
   ]
  },
  {
   "cell_type": "code",
   "execution_count": 5,
   "id": "33279c52",
   "metadata": {},
   "outputs": [
    {
     "name": "stdout",
     "output_type": "stream",
     "text": [
      "False\n",
      "True\n",
      "<class '__main__.Student'>\n"
     ]
    }
   ],
   "source": [
    "# isinstance(인스턴스명, 클래스명)\n",
    "print(isinstance(students, Student)) # 인스턴스가 지정한 클래스인지 확인\n",
    "print(isinstance(students[0], Student)) # 인스턴스가 지정한 클래스인지 확인\n",
    "print(type(students[0]))"
   ]
  },
  {
   "cell_type": "code",
   "execution_count": 24,
   "id": "06a8bb67",
   "metadata": {},
   "outputs": [
    {
     "name": "stdout",
     "output_type": "stream",
     "text": [
      "isinstance(student, Human) : True\n",
      "type(student) == Human : False\n",
      "type(student) == Student : True\n",
      "[<class '__main__.Student'>, <class '__main__.Human'>, <class 'object'>]\n"
     ]
    }
   ],
   "source": [
    "# isinstance() 활용\n",
    "class Human:\n",
    "    def __init__(self):\n",
    "        pass\n",
    "    \n",
    "class Student(Human):\n",
    "    def __init__(self):\n",
    "        pass\n",
    "    \n",
    "student = Student()\n",
    "\n",
    "# 인스턴스 확인하기\n",
    "print('isinstance(student, Human) :',isinstance(student, Human))\n",
    "print('type(student) == Human :',type(student) == Human)\n",
    "print('type(student) == Student :',type(student) == Student)\n",
    "print(Student.mro())"
   ]
  },
  {
   "cell_type": "code",
   "execution_count": 7,
   "id": "fc33dac4",
   "metadata": {},
   "outputs": [],
   "source": [
    "# 학생 클래스 선언\n",
    "class Student:\n",
    "    def study(self):\n",
    "        print('학생은 공부를 합니다.')\n",
    "        \n",
    "class Teacher:\n",
    "    def teach(self):\n",
    "        print('선생님은 공부를 가르칩니다.')"
   ]
  },
  {
   "cell_type": "code",
   "execution_count": 8,
   "id": "61231326",
   "metadata": {},
   "outputs": [
    {
     "name": "stdout",
     "output_type": "stream",
     "text": [
      "학생은 공부를 합니다.\n",
      "학생은 공부를 합니다.\n",
      "선생님은 공부를 가르칩니다.\n",
      "학생은 공부를 합니다.\n",
      "선생님은 공부를 가르칩니다.\n",
      "선생님은 공부를 가르칩니다.\n"
     ]
    }
   ],
   "source": [
    "classroom = [Student(),Student(),Teacher(), Student(), Teacher(), Teacher()]\n",
    "for person in classroom:\n",
    "    if isinstance(person, Student):\n",
    "        person.study()\n",
    "    else:\n",
    "        person.teach()"
   ]
  },
  {
   "cell_type": "code",
   "execution_count": 9,
   "id": "6418b568",
   "metadata": {},
   "outputs": [],
   "source": [
    "# class 선언 : 멤버(인스턴스 변수), 메서드(인스턴스 함수)\n",
    "class Student:\n",
    "    def __init__(self, name, kor, eng, math):\n",
    "        self.name = name\n",
    "        self.kor = kor\n",
    "        self.eng = eng\n",
    "        self.math = math\n",
    "        \n",
    "    def get_sum(self):\n",
    "        return self.kor + self.eng + self.math\n",
    "    \n",
    "    def get_avg(self):\n",
    "        return self.get_sum() / 3\n",
    "    \n",
    "    def to_string(self):\n",
    "        return \"{}\\t{}\\t{:3.2f}\".format(self.name, self.get_sum(), self.get_avg())\n",
    "    \n",
    "    def __str__(self):\n",
    "        return \"{}\\t{}\\t{:3.2f}\".format(self.name, self.get_sum(), self.get_avg())\n",
    "    \n",
    "    def __eq__(self,value): # equal\n",
    "        return self.get_sum() == value.get_sum()\n",
    "    \n",
    "    def __ne__(self,value): # not equal\n",
    "        return self.get_sum() != value.get_sum()\n",
    "    \n",
    "    def __gt__(self,value): # great than\n",
    "        return self.get_sum() > value.get_sum()\n",
    "    \n",
    "    def __ge__(self,value): # great equeal\n",
    "        return self.get_sum() >= value.get_sum()\n",
    "    \n",
    "    def __lt__(self,value): # less than\n",
    "        return self.get_sum() < value.get_sum()\n",
    "    \n",
    "    def __le__(self,value): # lsee equeal\n",
    "        return self.get_sum() <= value.get_sum()"
   ]
  },
  {
   "cell_type": "code",
   "execution_count": 10,
   "id": "327ebd39",
   "metadata": {},
   "outputs": [
    {
     "name": "stdout",
     "output_type": "stream",
     "text": [
      "이름\t총점\t평균\n",
      "홍길동\t270\t90.00\n",
      "김철수\t282\t94.00\n",
      "개나리\t253\t84.33\n",
      "\n",
      "False\n"
     ]
    }
   ],
   "source": [
    "students = [\n",
    "    Student('홍길동', 80, 90 ,100),\n",
    "    Student('김철수', 88, 95 ,99),\n",
    "    Student('개나리', 77, 77 ,99),\n",
    "]\n",
    "\n",
    "print(\"이름\",'총점','평균',sep='\\t')\n",
    "for student in students:\n",
    "    print(str(student))\n",
    "\n",
    "print()   \n",
    "print(students[0] == students[1])"
   ]
  },
  {
   "cell_type": "code",
   "execution_count": 11,
   "id": "4929d7c3",
   "metadata": {},
   "outputs": [],
   "source": [
    "# 클래스 변수 : 클래스명.변수\n",
    "class Student:\n",
    "    # 클래스 변수 : 클래스를 정의하는 순간부터 변수 생성\n",
    "    count = 0\n",
    "    \n",
    "    def __init__(self, name, kor, eng, math):\n",
    "        self.name = name\n",
    "        self.kor = kor\n",
    "        self.eng = eng\n",
    "        self.math = math\n",
    "        \n",
    "        Student.count += 1\n",
    "        \n",
    "    def get_sum(self):\n",
    "        return self.kor + self.eng + self.math\n",
    "    \n",
    "    def get_avg(self):\n",
    "        return self.get_sum() / Student.count\n",
    "  \n",
    "    def __str__(self):\n",
    "        return \"{}\\t{}\\t{:3.2f}\".format(self.name, self.get_sum(), self.get_avg())\n",
    "\n",
    "students = [\n",
    "    Student('홍길동', 80, 90 ,100),\n",
    "    Student('김철수', 88, 95 ,99),\n",
    "    Student('개나리', 77, 77 ,99),\n",
    "]"
   ]
  },
  {
   "cell_type": "code",
   "execution_count": 12,
   "id": "8c8a18f3",
   "metadata": {},
   "outputs": [
    {
     "name": "stdout",
     "output_type": "stream",
     "text": [
      "3\n"
     ]
    }
   ],
   "source": [
    "print(Student.count)"
   ]
  },
  {
   "cell_type": "code",
   "execution_count": 19,
   "id": "f4be9661",
   "metadata": {},
   "outputs": [
    {
     "data": {
      "text/plain": [
       "<__main__.Student at 0x299334a1490>"
      ]
     },
     "execution_count": 19,
     "metadata": {},
     "output_type": "execute_result"
    }
   ],
   "source": [
    "class Student :\n",
    "# 클래스 변수\n",
    "  count = 0\n",
    "  students = []\n",
    "# 클래스 함수\n",
    "  @classmethod\n",
    "  def print(cls) :\n",
    "    print(\"{:-^20}\".format(\"학생목록\") )\n",
    "    print(\"이름\\t총점\\t평균\")\n",
    "    for student in cls.students :\n",
    "      print( student.to_string() )\n",
    "    print( '-'*25 )\n",
    "\n",
    "# 인스턴스 함수\n",
    "  def __init__(self, name, kor, eng, math):\n",
    "    self.name = name\n",
    "    self.kor = kor\n",
    "    self.eng = eng\n",
    "    self.math = math\n",
    "\n",
    "# 클래스 변수 설정\n",
    "    Student.count += 1\n",
    "    Student.students.append(self)\n",
    "\n",
    "  def get_sum(self):\n",
    "    return self.kor + self.eng + self.math\n",
    "\n",
    "  def get_avg(self):\n",
    "    return self.get_sum() / 3\n",
    "\n",
    "  def to_string(self):\n",
    "    return \"{}\\t{}\\t{:3.2f}\".format(self.name, self.get_sum(), self.get_avg())\n",
    "\n",
    "Student('홍길동', 80, 90 ,100)\n",
    "Student('김철수', 88, 95 ,99)\n",
    "Student('개나리', 77, 77 ,99)\n"
   ]
  },
  {
   "cell_type": "code",
   "execution_count": 20,
   "id": "69f9fab9",
   "metadata": {},
   "outputs": [
    {
     "name": "stdout",
     "output_type": "stream",
     "text": [
      "--------학생목록--------\n",
      "이름\t총점\t평균\n",
      "홍길동\t270\t90.00\n",
      "김철수\t282\t94.00\n",
      "개나리\t253\t84.33\n",
      "-------------------------\n"
     ]
    }
   ],
   "source": [
    "Student.print()"
   ]
  },
  {
   "cell_type": "markdown",
   "id": "45568523",
   "metadata": {},
   "source": [
    "# 과제\n",
    "1. 학생들의 이름, 국어, 영어, 수학 성적을 입력 받아 리스트에 저장한 후\n",
    "2. 입력이 종료되면 리스트의 내용을 출력\n",
    "3. 이름을 입력받아 리스트의 내용 중 같은 이름의 자료가 존재하면\n",
    "   이름, 총점, 평균을 출력하고, 없으면 자료 없음 이라고 출력\n",
    "4. 입력된 학생들의 인원수가 10명 미만이면 추가 입력\n",
    "5. 총점의 점수가 가장 작은 학생의 이름, 국어, 영어, 수학 점수 출력\n",
    "6. 전체 학생의 이름, 총점 평균을 출력 ( 점수가 높은 순서대로 )\n",
    "# class 변수, class 함수, class Student 사용"
   ]
  },
  {
   "cell_type": "code",
   "execution_count": 46,
   "id": "e94bc811",
   "metadata": {},
   "outputs": [
    {
     "name": "stdout",
     "output_type": "stream",
     "text": [
      "입력 지옥에 오신것을 환영합니다~\n",
      "이름 성적 입력(최소10명입력 후 종료는 'q'):a 12 23 34\n",
      "이름 성적 입력(최소10명입력 후 종료는 'q'):a\n",
      "국영수 점수 입력\n",
      "이름 성적 입력(최소10명입력 후 종료는 'q'):a 12 23 34\n",
      "이름 성적 입력(최소10명입력 후 종료는 'q'):b 23 34 54\n",
      "이름 성적 입력(최소10명입력 후 종료는 'q'):c 34 45 46\n",
      "이름 성적 입력(최소10명입력 후 종료는 'q'):d 22 22 22\n",
      "이름 성적 입력(최소10명입력 후 종료는 'q'):e 11 11 11\n",
      "이름 성적 입력(최소10명입력 후 종료는 'q'):f 33 33 33\n",
      "이름 성적 입력(최소10명입력 후 종료는 'q'):g 55 55 55\n",
      "이름 성적 입력(최소10명입력 후 종료는 'q'):h 52 32 56\n",
      "이름 성적 입력(최소10명입력 후 종료는 'q'):i 13 25 75\n",
      "이름 성적 입력(최소10명입력 후 종료는 'q'):j 34 56 78\n",
      "이름 성적 입력(최소10명입력 후 종료는 'q'):k 12 23 45\n",
      "이름 성적 입력(최소10명입력 후 종료는 'q'):q\n",
      "a\t69\t23.00\n",
      "a\t69\t23.00\n",
      "b\t111\t37.00\n",
      "c\t125\t41.67\n",
      "d\t66\t22.00\n",
      "e\t33\t11.00\n",
      "f\t99\t33.00\n",
      "g\t165\t55.00\n",
      "h\t140\t46.67\n",
      "i\t113\t37.67\n",
      "j\t168\t56.00\n",
      "k\t80\t26.67\n"
     ]
    }
   ],
   "source": [
    "class Student :\n",
    "# 클래스 변수\n",
    "    count = 0\n",
    "    students = []\n",
    "# 클래스 함수\n",
    "    @classmethod\n",
    "    def print(cls) :\n",
    "        rank = []\n",
    "        while cls.students:\n",
    "            sum_list = []\n",
    "            for student in cls.students:\n",
    "                sum_list.append(student.get_sum())                \n",
    "            no1_score = max(sum_list)\n",
    "            for student in cls.students:\n",
    "                if student.get_sum() == no1_score:\n",
    "                    rank.append(student)\n",
    "                    cls.students.remove(student)\n",
    "                    break         \n",
    "        print(\"{:-^20}\".format(\"학생목록\") )\n",
    "        print(\"이름\\t총점\\t평균\")\n",
    "        for student in rank :\n",
    "            print( student.to_string() )\n",
    "        print( '-'*25 )\n",
    "    @classmethod\n",
    "    def input(cls):\n",
    "        print('입력 지옥에 오신것을 환영합니다~')\n",
    "        while True:\n",
    "            input_data = input(\"이름 성적 입력(최소10명입력 후 종료는 'q'):\").split()\n",
    "            try:\n",
    "                name = input_data[0]\n",
    "                \n",
    "                if name == 'q':\n",
    "                    if cls.count >= 10:\n",
    "                        break\n",
    "                    else:\n",
    "                        print('10명이상 입력해')\n",
    "                        continue\n",
    "                elif len(input_data) < 4:\n",
    "                    print('국영수 점수 입력')\n",
    "                    continue\n",
    "                    \n",
    "                kor = int(input_data[1])\n",
    "                eng = int(input_data[2])\n",
    "                math = int(input_data[3])\n",
    "            except Exception as e:\n",
    "                print(e)\n",
    "                print('제대로 입력해~')\n",
    "            else:\n",
    "                Student(name,kor,eng,math)\n",
    "                \n",
    "        for student in cls.students:\n",
    "            print(student.to_string())\n",
    "    @classmethod\n",
    "    def search(cls, name):\n",
    "        count = 0\n",
    "        for student in cls.students:\n",
    "            if student.name == name:\n",
    "                print(student.to_string())\n",
    "                count += 1\n",
    "        if count == 0:\n",
    "            print('자료 없음')\n",
    "    @classmethod\n",
    "    def min(cls):\n",
    "        sum_list = []\n",
    "        for student in cls.students:\n",
    "            sum_list.append(student.get_sum())\n",
    "            \n",
    "        score_min = min(sum_list)\n",
    "        for student in cls.students:\n",
    "            if student.get_sum() == score_min:\n",
    "                print(student.to_string())\n",
    "        \n",
    "\n",
    "    # 인스턴스 함수\n",
    "    def __init__(self, name, kor, eng, math):\n",
    "        self.name = name\n",
    "        self.kor = kor\n",
    "        self.eng = eng\n",
    "        self.math = math\n",
    "\n",
    "        # 클래스 변수 설정\n",
    "        Student.count += 1\n",
    "        Student.students.append(self)\n",
    "\n",
    "    def get_sum(self):\n",
    "        return self.kor + self.eng + self.math\n",
    "\n",
    "    def get_avg(self):\n",
    "        return self.get_sum() / 3\n",
    "\n",
    "    def to_string(self):\n",
    "        return \"{}\\t{}\\t{:3.2f}\".format(self.name, self.get_sum(), self.get_avg())\n",
    "\n",
    "Student.input()"
   ]
  },
  {
   "cell_type": "code",
   "execution_count": 41,
   "id": "fe8f7e8e",
   "metadata": {},
   "outputs": [
    {
     "name": "stdout",
     "output_type": "stream",
     "text": [
      "a\t33\t11.00\n",
      "b\t297\t99.00\n",
      "c\t66\t22.00\n",
      "d\t264\t88.00\n",
      "e\t99\t33.00\n",
      "f\t231\t77.00\n",
      "g\t165\t55.00\n",
      "h\t132\t44.00\n",
      "i\t198\t66.00\n",
      "j\t69\t23.00\n",
      "k\t36\t12.00\n",
      "[33, 297, 66, 264, 99, 231, 165, 132, 198, 69, 36]\n",
      "a\t33\t11.00\n"
     ]
    }
   ],
   "source": [
    "Student.min()"
   ]
  },
  {
   "cell_type": "code",
   "execution_count": 47,
   "id": "f47f735f",
   "metadata": {},
   "outputs": [
    {
     "name": "stdout",
     "output_type": "stream",
     "text": [
      "--------학생목록--------\n",
      "이름\t총점\t평균\n",
      "j\t168\t56.00\n",
      "g\t165\t55.00\n",
      "h\t140\t46.67\n",
      "c\t125\t41.67\n",
      "i\t113\t37.67\n",
      "b\t111\t37.00\n",
      "f\t99\t33.00\n",
      "k\t80\t26.67\n",
      "a\t69\t23.00\n",
      "a\t69\t23.00\n",
      "d\t66\t22.00\n",
      "e\t33\t11.00\n",
      "-------------------------\n"
     ]
    }
   ],
   "source": [
    "Student.print()"
   ]
  },
  {
   "cell_type": "code",
   "execution_count": 45,
   "id": "497ba661",
   "metadata": {},
   "outputs": [
    {
     "name": "stdout",
     "output_type": "stream",
     "text": [
      "f\t231\t77.00\n"
     ]
    }
   ],
   "source": [
    "Student.search('f')"
   ]
  },
  {
   "cell_type": "code",
   "execution_count": null,
   "id": "52c3fdd3",
   "metadata": {},
   "outputs": [],
   "source": []
  }
 ],
 "metadata": {
  "kernelspec": {
   "display_name": "Python 3 (ipykernel)",
   "language": "python",
   "name": "python3"
  },
  "language_info": {
   "codemirror_mode": {
    "name": "ipython",
    "version": 3
   },
   "file_extension": ".py",
   "mimetype": "text/x-python",
   "name": "python",
   "nbconvert_exporter": "python",
   "pygments_lexer": "ipython3",
   "version": "3.9.7"
  }
 },
 "nbformat": 4,
 "nbformat_minor": 5
}
