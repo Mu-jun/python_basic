{
 "cells": [
  {
   "cell_type": "code",
   "execution_count": 2,
   "id": "c82bc34a",
   "metadata": {},
   "outputs": [
    {
     "name": "stdout",
     "output_type": "stream",
     "text": [
      "정수를 입력하세요 >>-1\n",
      "음수\n"
     ]
    }
   ],
   "source": [
    "input_int = int(input(\"정수를 입력하세요 >> \"))\n",
    "\n",
    "if input_int >0:\n",
    "    print(\"양수\")\n",
    "if input_int == 0:\n",
    "    print('zero')\n",
    "if input_int < 0:\n",
    "    print('음수')"
   ]
  },
  {
   "cell_type": "code",
   "execution_count": 3,
   "id": "02ce190e",
   "metadata": {},
   "outputs": [
    {
     "name": "stdout",
     "output_type": "stream",
     "text": [
      "x + y 입력 >> 10 + 20\n",
      "30\n"
     ]
    }
   ],
   "source": [
    "input_data = input(\"x + y 입력 >> \").split('+')\n",
    "\n",
    "x = int(input_data[0])\n",
    "y = int(input_data[1])\n",
    "print(x+y)"
   ]
  },
  {
   "cell_type": "code",
   "execution_count": 11,
   "id": "14380efb",
   "metadata": {},
   "outputs": [
    {
     "name": "stdout",
     "output_type": "stream",
     "text": [
      "숫자 입력 : 10\n",
      "부호 입력 : /\n",
      "숫자 입력 : 2\n",
      "5.0\n"
     ]
    }
   ],
   "source": [
    "num1 = int(input('숫자 입력 : '))\n",
    "buho = input('부호 입력 : ')\n",
    "num2 = int(input('숫자 입력 : '))\n",
    "\n",
    "if buho=='+' :\n",
    "    print(num1+num2)\n",
    "elif buho=='-' :\n",
    "    print(num1-num2)\n",
    "elif buho=='*' :\n",
    "    print(num1*num2)\n",
    "elif buho=='/' :\n",
    "    print(num1/num2)"
   ]
  },
  {
   "cell_type": "code",
   "execution_count": 25,
   "id": "1ea03fe0",
   "metadata": {},
   "outputs": [
    {
     "ename": "NotImplementedError",
     "evalue": "",
     "output_type": "error",
     "traceback": [
      "\u001b[1;31m---------------------------------------------------------------------------\u001b[0m",
      "\u001b[1;31mNotImplementedError\u001b[0m                       Traceback (most recent call last)",
      "\u001b[1;32m~\\AppData\\Local\\Temp/ipykernel_4368/2600501079.py\u001b[0m in \u001b[0;36m<module>\u001b[1;34m\u001b[0m\n\u001b[0;32m      1\u001b[0m \u001b[1;32mif\u001b[0m \u001b[0mx\u001b[0m \u001b[1;33m==\u001b[0m \u001b[1;36m10\u001b[0m\u001b[1;33m:\u001b[0m\u001b[1;33m\u001b[0m\u001b[1;33m\u001b[0m\u001b[0m\n\u001b[1;32m----> 2\u001b[1;33m     \u001b[1;32mraise\u001b[0m \u001b[0mNotImplementedError\u001b[0m\u001b[1;33m\u001b[0m\u001b[1;33m\u001b[0m\u001b[0m\n\u001b[0m",
      "\u001b[1;31mNotImplementedError\u001b[0m: "
     ]
    }
   ],
   "source": [
    "if x == 0:\n",
    "    raise NotImplementedError"
   ]
  },
  {
   "cell_type": "code",
   "execution_count": 33,
   "id": "0d99484f",
   "metadata": {},
   "outputs": [
    {
     "name": "stdout",
     "output_type": "stream",
     "text": [
      "숫자 입력 : 1\n",
      "숫자 입력 : 2\n",
      "숫자 입력 : 3\n",
      "숫자 입력 : 4\n",
      "숫자 입력 : 5\n",
      "15\n"
     ]
    }
   ],
   "source": [
    "num_list = []\n",
    "\n",
    "for i in range(5):\n",
    "    in_num = int(input('숫자 입력 : '))\n",
    "    num_list.append(in_num)\n",
    "\n",
    "print(sum(num_list))"
   ]
  },
  {
   "cell_type": "code",
   "execution_count": 36,
   "id": "f4972e08",
   "metadata": {},
   "outputs": [
    {
     "name": "stdout",
     "output_type": "stream",
     "text": [
      "1\n",
      "2\n",
      "3\n",
      "4\n",
      "5\n",
      "6\n",
      "7\n",
      "8\n",
      "9\n"
     ]
    }
   ],
   "source": [
    "list_of_list = [\n",
    "    [1,2,3],\n",
    "    [4,5,6,7],\n",
    "    [8,9],\n",
    "]\n",
    "for out_data in list_of_list:\n",
    "    for in_data in out_data:\n",
    "        print(in_data)"
   ]
  },
  {
   "cell_type": "code",
   "execution_count": 37,
   "id": "94961057",
   "metadata": {},
   "outputs": [
    {
     "name": "stdout",
     "output_type": "stream",
     "text": [
      "[[1, 4, 7], [2, 5, 8], [3, 6, 9]]\n"
     ]
    }
   ],
   "source": [
    "numbers = [1,2,3,4,5,6,7,8,9]\n",
    "output = [[],[],[]]\n",
    "\n",
    "for number in numbers:\n",
    "    output[number%3-1].append(number)\n",
    "\n",
    "print(output)"
   ]
  },
  {
   "cell_type": "code",
   "execution_count": 38,
   "id": "c48466ce",
   "metadata": {},
   "outputs": [
    {
     "name": "stdout",
     "output_type": "stream",
     "text": [
      "{'name': 'Jack', 'age': 36, 'job': 'programer'}\n"
     ]
    }
   ],
   "source": [
    "dict_user = { 'name': 'Jack', 'age':36 }\n",
    "dict_user[ 'job' ] = 'programer'\n",
    "print(dict_user)"
   ]
  },
  {
   "cell_type": "code",
   "execution_count": 60,
   "id": "b65e4529",
   "metadata": {},
   "outputs": [
    {
     "name": "stdout",
     "output_type": "stream",
     "text": [
      "# 우리 동네 애완 동물들\n",
      "구름 5살\n",
      "초코 3살\n",
      "아지 1살\n",
      "호랑이 1살\n"
     ]
    }
   ],
   "source": [
    "pets = [\n",
    "    {'name': '구름', 'age': 5},\n",
    "    {'name': '초코', 'age': 3},\n",
    "    {'name': '아지', 'age': 1},\n",
    "    {'name': '호랑이', 'age': 1},\n",
    "]\n",
    "\n",
    "print('# 우리 동네 애완 동물들')\n",
    "for pet in pets:\n",
    "    print('{} {}살'.format(pet['name'], pet['age']))"
   ]
  },
  {
   "cell_type": "code",
   "execution_count": 67,
   "id": "7ef02f9e",
   "metadata": {},
   "outputs": [
    {
     "name": "stdout",
     "output_type": "stream",
     "text": [
      "{1: 2, 5: 16, 2: 3, 4: 17, 6: 7, 7: 1, 3: 1}\n"
     ]
    }
   ],
   "source": [
    "numbers = [1,5,2,5,2,4,6,4,5,1,5,4,7,3,4,6,4]\n",
    "counter = {}\n",
    "\n",
    "for number in numbers:\n",
    "    if number in counter:\n",
    "        counter[number] += number\n",
    "    else:\n",
    "        counter[number] = 1\n",
    "    \n",
    "print(counter)"
   ]
  },
  {
   "cell_type": "code",
   "execution_count": 70,
   "id": "4d751063",
   "metadata": {},
   "outputs": [
    {
     "name": "stdout",
     "output_type": "stream",
     "text": [
      "name : 기사\n",
      "level : 12\n",
      "sword : 불꽃의 검\n",
      "armor : 풀플레이트\n",
      "skill : 베기\n",
      "skill : 세게 베기\n",
      "skill : 아주 세게 베기\n"
     ]
    }
   ],
   "source": [
    "character = {\n",
    "    'name': '기사',\n",
    "    'level': 12,\n",
    "    'items': {\n",
    "        'sword': '불꽃의 검',\n",
    "        'armor': '풀플레이트'\n",
    "    },\n",
    "    'skill': ['베기', '세게 베기', '아주 세게 베기']\n",
    "}\n",
    "\n",
    "for key in character:\n",
    "    value = character[key]\n",
    "    if type(value) is list:\n",
    "        for i in value:\n",
    "            print('{} : {}'.format(key,i))\n",
    "    elif type(value) is dict:\n",
    "        for k, v in value.items():\n",
    "            print('{} : {}'.format(k,v))\n",
    "    else:\n",
    "        print('{} : {}'.format(key,value))\n",
    "    "
   ]
  },
  {
   "cell_type": "code",
   "execution_count": 72,
   "id": "43f84c2e",
   "metadata": {},
   "outputs": [
    {
     "name": "stdout",
     "output_type": "stream",
     "text": [
      "<class 'range'>\n"
     ]
    }
   ],
   "source": [
    "print(type(range(1)))"
   ]
  },
  {
   "cell_type": "code",
   "execution_count": 80,
   "id": "23897cbb",
   "metadata": {},
   "outputs": [
    {
     "name": "stdout",
     "output_type": "stream",
     "text": [
      "숫자입력(공백구분) : 1 2 3 4 5 6 \n",
      "21\n"
     ]
    }
   ],
   "source": [
    "input_data = input(\"숫자입력(공백구분) : \")\n",
    "\n",
    "num_list = input_data.split()\n",
    "\n",
    "total = 0\n",
    "\n",
    "for num in num_list:\n",
    "    total += int(num)\n",
    "\n",
    "print(total)"
   ]
  },
  {
   "cell_type": "code",
   "execution_count": 89,
   "id": "9321b066",
   "metadata": {},
   "outputs": [
    {
     "name": "stdout",
     "output_type": "stream",
     "text": [
      "이름 성적 입력 : 0 0\n",
      "이름 성적 입력 : 1 1\n",
      "이름 성적 입력 : 2 2\n",
      "이름 성적 입력 : 3 3\n",
      "이름 성적 입력 : 4 4\n",
      "이름 성적 입력 : 5 5\n",
      "이름 성적 입력 :  6 6\n",
      "이름 성적 입력 : 7 7\n",
      "이름 성적 입력 : 8 8\n",
      "이름 성적 입력 : 9 9\n",
      "{'0': '0', '1': '1', '2': '2', '3': '3', '4': '4', '5': '5', '6': '6', '7': '7', '8': '8', '9': '9'}\n",
      "총원원수 : 10 평균 : 0.9\n"
     ]
    }
   ],
   "source": [
    "student_dict = {}\n",
    "total = 0\n",
    "\n",
    "for i in range(10):\n",
    "    student = input(\"이름 성적 입력 : \").split()\n",
    "    student_dict[student[0]] = student[1]\n",
    "    total =+ int(student[1])\n",
    "    \n",
    "print(student_dict)\n",
    "print('총원원수 :',len(student_dict),'평균 :',total/len(student_dict))"
   ]
  },
  {
   "cell_type": "code",
   "execution_count": null,
   "id": "fff0f963",
   "metadata": {},
   "outputs": [],
   "source": []
  }
 ],
 "metadata": {
  "kernelspec": {
   "display_name": "Python 3 (ipykernel)",
   "language": "python",
   "name": "python3"
  },
  "language_info": {
   "codemirror_mode": {
    "name": "ipython",
    "version": 3
   },
   "file_extension": ".py",
   "mimetype": "text/x-python",
   "name": "python",
   "nbconvert_exporter": "python",
   "pygments_lexer": "ipython3",
   "version": "3.9.7"
  }
 },
 "nbformat": 4,
 "nbformat_minor": 5
}
