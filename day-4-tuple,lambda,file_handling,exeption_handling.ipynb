{
 "cells": [
  {
   "cell_type": "code",
   "execution_count": 3,
   "id": "97ee2998",
   "metadata": {},
   "outputs": [],
   "source": [
    "a_list = [1,2,3,4,5]\n",
    "a_tuple = (1,2,3,4,5)"
   ]
  },
  {
   "cell_type": "code",
   "execution_count": 5,
   "id": "a88d3c96",
   "metadata": {},
   "outputs": [
    {
     "name": "stdout",
     "output_type": "stream",
     "text": [
      "a_list: [1, 2, 3, 4, 5]\n",
      "a_tuple: (1, 2, 3, 4, 5)\n"
     ]
    }
   ],
   "source": [
    "print(\"a_list:\",a_list)\n",
    "print(\"a_tuple:\",a_tuple)"
   ]
  },
  {
   "cell_type": "code",
   "execution_count": 7,
   "id": "1a7e01d3",
   "metadata": {},
   "outputs": [
    {
     "name": "stdout",
     "output_type": "stream",
     "text": [
      "[100, 2, 3, 4, 5]\n"
     ]
    }
   ],
   "source": [
    "a_list[0] =100\n",
    "print(a_list)"
   ]
  },
  {
   "cell_type": "code",
   "execution_count": 9,
   "id": "e6cba213",
   "metadata": {},
   "outputs": [
    {
     "ename": "TypeError",
     "evalue": "'tuple' object does not support item assignment",
     "output_type": "error",
     "traceback": [
      "\u001b[1;31m---------------------------------------------------------------------------\u001b[0m",
      "\u001b[1;31mTypeError\u001b[0m                                 Traceback (most recent call last)",
      "\u001b[1;32m~\\AppData\\Local\\Temp/ipykernel_9256/1643492301.py\u001b[0m in \u001b[0;36m<module>\u001b[1;34m\u001b[0m\n\u001b[1;32m----> 1\u001b[1;33m \u001b[0ma_tuple\u001b[0m\u001b[1;33m[\u001b[0m\u001b[1;36m0\u001b[0m\u001b[1;33m]\u001b[0m\u001b[1;33m=\u001b[0m\u001b[1;36m100\u001b[0m\u001b[1;33m\u001b[0m\u001b[1;33m\u001b[0m\u001b[0m\n\u001b[0m\u001b[0;32m      2\u001b[0m \u001b[0mprint\u001b[0m\u001b[1;33m(\u001b[0m\u001b[0ma_tuple\u001b[0m\u001b[1;33m)\u001b[0m\u001b[1;33m\u001b[0m\u001b[1;33m\u001b[0m\u001b[0m\n",
      "\u001b[1;31mTypeError\u001b[0m: 'tuple' object does not support item assignment"
     ]
    }
   ],
   "source": [
    "# a_tuple[0]=100 # 'tuple' object does not support item assignment"
   ]
  },
  {
   "cell_type": "code",
   "execution_count": 15,
   "id": "109306cc",
   "metadata": {},
   "outputs": [
    {
     "name": "stdout",
     "output_type": "stream",
     "text": [
      "10 20\n"
     ]
    }
   ],
   "source": [
    "a,b = 10,20 # a,b = (10),(20) 과 같은 의미\n",
    "print(a,b)"
   ]
  },
  {
   "cell_type": "code",
   "execution_count": 16,
   "id": "78b0b710",
   "metadata": {},
   "outputs": [
    {
     "name": "stdout",
     "output_type": "stream",
     "text": [
      "20 10\n"
     ]
    }
   ],
   "source": [
    "a,b = b,a\n",
    "print(a,b)"
   ]
  },
  {
   "cell_type": "code",
   "execution_count": 18,
   "id": "402b86ae",
   "metadata": {},
   "outputs": [
    {
     "name": "stdout",
     "output_type": "stream",
     "text": [
      "Hello!!\n",
      "Hello!!\n",
      "Hello!!\n"
     ]
    }
   ],
   "source": [
    "# 함수의 매개변수에 함수명 전달 가능\n",
    "def call_n_times(func, n):\n",
    "    for i in range(n):\n",
    "        func()\n",
    "        \n",
    "def print_hello():\n",
    "    print(\"Hello!!\")\n",
    "    \n",
    "call_n_times(print_hello,3)"
   ]
  },
  {
   "cell_type": "code",
   "execution_count": 22,
   "id": "8eac77dc",
   "metadata": {},
   "outputs": [
    {
     "name": "stdout",
     "output_type": "stream",
     "text": [
      "map() 실행 결과 <map object at 0x0000020A2C26C790>\n",
      "map() 실행 결과 [10000, 4, 9, 16, 25]\n",
      "filter() 실행 결과 [2]\n"
     ]
    }
   ],
   "source": [
    "# map(함수,리스트), filter(함수, 리스트) : 함수를 매개변수로 받는 내장함수\n",
    "def power(item):\n",
    "    return item*item\n",
    "\n",
    "def under_3(item):\n",
    "    return item<3\n",
    "\n",
    "output_a = map(power, a_list)\n",
    "print(\"map() 실행 결과\", output_a)\n",
    "print(\"map() 실행 결과\", list(output_a))\n",
    "\n",
    "output_b = filter(under_3, a_list)\n",
    "print(\"filter() 실행 결과\",list(output_b))"
   ]
  },
  {
   "cell_type": "code",
   "execution_count": 23,
   "id": "38046314",
   "metadata": {},
   "outputs": [
    {
     "name": "stdout",
     "output_type": "stream",
     "text": [
      "map() 실행 결과 <map object at 0x0000020A2C26C220>\n",
      "map() 실행 결과 [10000, 4, 9, 16, 25]\n",
      "filter() 실행 결과 [2]\n"
     ]
    }
   ],
   "source": [
    "# 람다 사용 lambda 매개변수 : 리턴값\n",
    "power = lambda item : item * item\n",
    "under_3 = lambda item : item < 3\n",
    "\n",
    "output_a = map(power, a_list)\n",
    "print(\"map() 실행 결과\", output_a)\n",
    "print(\"map() 실행 결과\", list(output_a))\n",
    "\n",
    "output_b = filter(under_3, a_list)\n",
    "print(\"filter() 실행 결과\",list(output_b))"
   ]
  },
  {
   "cell_type": "code",
   "execution_count": 24,
   "id": "51918ae0",
   "metadata": {},
   "outputs": [
    {
     "name": "stdout",
     "output_type": "stream",
     "text": [
      "map() 실행 결과 <map object at 0x0000020A2C26CEE0>\n",
      "map() 실행 결과 [10000, 4, 9, 16, 25]\n",
      "filter() 실행 결과 [2]\n"
     ]
    }
   ],
   "source": [
    "# 인라인 람다\n",
    "output_a = map(lambda item : item * item, a_list)\n",
    "print(\"map() 실행 결과\", output_a)\n",
    "print(\"map() 실행 결과\", list(output_a))\n",
    "\n",
    "output_b = filter(lambda item : item < 3, a_list)\n",
    "print(\"filter() 실행 결과\",list(output_b))"
   ]
  },
  {
   "cell_type": "code",
   "execution_count": 57,
   "id": "dd638154",
   "metadata": {},
   "outputs": [],
   "source": [
    "# 파일에 자료를 저장하기\n",
    "file = open(\"test.txt\",\"a\") # w모드일 때 파일이 없으면 새로 생성함.open()호출시 기존내용삭제\n",
    "# a모드일 때 파일 없으면 생성. open()호출시 기존 파일 삭제 안함.\n",
    "# r모드일 때는 파일이 없으면 에러발생\n",
    "file.write('\"a\"mode file write \\n')\n",
    "file.close() # close를 해야 파일에 저장이 된다."
   ]
  },
  {
   "cell_type": "code",
   "execution_count": 58,
   "id": "5d89ceb5",
   "metadata": {},
   "outputs": [],
   "source": [
    "# with를 사용하여 파일 핸들링\n",
    "with open(\"test1.txt\", \"w\") as file: # 자동으로 file close() 실행\n",
    "    for i in range(3):\n",
    "        file.write('file write \\n')"
   ]
  },
  {
   "cell_type": "code",
   "execution_count": 62,
   "id": "710edd32",
   "metadata": {},
   "outputs": [
    {
     "name": "stdout",
     "output_type": "stream",
     "text": [
      "<class 'list'>\n",
      "['file write \\n', 'file write \\n', 'file write \\n']\n"
     ]
    }
   ],
   "source": [
    "with open('test1.txt', 'r') as file:\n",
    "    content = file.readlines()\n",
    "    \n",
    "print(type(content))\n",
    "print(content)"
   ]
  },
  {
   "cell_type": "code",
   "execution_count": 61,
   "id": "6abec94a",
   "metadata": {},
   "outputs": [
    {
     "name": "stdout",
     "output_type": "stream",
     "text": [
      "<class 'str'>\n",
      "file write \n",
      "file write \n",
      "file write \n",
      "\n"
     ]
    }
   ],
   "source": [
    "with open('test1.txt', 'r') as file:\n",
    "    content = file.read()\n",
    "    \n",
    "print(type(content))\n",
    "print(content)"
   ]
  },
  {
   "cell_type": "code",
   "execution_count": 63,
   "id": "19acf02d",
   "metadata": {},
   "outputs": [],
   "source": [
    "# 이름 국어, 영어, 수학 점수를 입력받아 파일(student.txt) 에 저장한 후 (w)\n",
    "# 저장은 홍길동,90,80,100\\n\n",
    "# 저장된 파일에서 데이터를 라인 단위로 가져와서 딕셔너리에 저장 (r)\n",
    "# 데이터를 처리"
   ]
  },
  {
   "cell_type": "code",
   "execution_count": 90,
   "id": "c25be29b",
   "metadata": {},
   "outputs": [],
   "source": [
    "def input_data(file):\n",
    "    while True:\n",
    "        input_data = input(\"이름 성적 입력(종료는 'q'):\").split()\n",
    "        if input_data[0] == 'q':\n",
    "            break\n",
    "        elif len(input_data) < 4:\n",
    "            continue\n",
    "        elif not input_data[1].isdigit():\n",
    "            continue\n",
    "        content = ','.join(input_data)\n",
    "        content +='\\n'\n",
    "        file.write(content)\n",
    "\n",
    "def read_data(file):    \n",
    "    for line in file:\n",
    "        data = line.split('\\n')\n",
    "        data = data[0].split(',')\n",
    "        student[data[0]] = [data[1],data[2],data[3]]\n",
    "    return student"
   ]
  },
  {
   "cell_type": "code",
   "execution_count": 77,
   "id": "e8de53db",
   "metadata": {},
   "outputs": [],
   "source": [
    "with open('student.txt','w+') as file:\n",
    "    input_data(file)\n",
    "    print('file write end ---')"
   ]
  },
  {
   "cell_type": "code",
   "execution_count": 91,
   "id": "0f612710",
   "metadata": {},
   "outputs": [
    {
     "name": "stdout",
     "output_type": "stream",
     "text": [
      "{'a': ['10', '20', '30'], 'b': ['20', '30', '40'], 'c': ['30', '40', '50']}\n"
     ]
    }
   ],
   "source": [
    "with open('student.txt','r') as file:\n",
    "    students = read_data(file)\n",
    "    print(students)"
   ]
  },
  {
   "cell_type": "code",
   "execution_count": 95,
   "id": "a69911f3",
   "metadata": {},
   "outputs": [
    {
     "name": "stdout",
     "output_type": "stream",
     "text": [
      "정수 입력 4\n",
      "원의 반지름: 4\n",
      "원의 둘레: 25.12\n",
      "원의 넓이: 50.24\n"
     ]
    }
   ],
   "source": [
    "# 프로그램 실행시 발생할 수 있는 오류 처리 : try: ~ except:\n",
    "try:\n",
    "    input_number = int(input('정수 입력 '))\n",
    "\n",
    "    print('원의 반지름:', input_number)\n",
    "    print('원의 둘레:', 2*3.14*input_number)\n",
    "    print('원의 넓이:', input_number**2*3.14)\n",
    "except:\n",
    "    print('오류발생')"
   ]
  },
  {
   "cell_type": "code",
   "execution_count": 96,
   "id": "0708f364",
   "metadata": {},
   "outputs": [
    {
     "name": "stdout",
     "output_type": "stream",
     "text": [
      "['10', '20', 'test', '30'] 내부에 있는 숫자는 [10.0, 20.0, 30.0] 입니다\n"
     ]
    }
   ],
   "source": [
    "list_input = ['10','20','test','30']\n",
    "\n",
    "list_number=[]\n",
    "for item in list_input:\n",
    "    try:\n",
    "        list_number.append(float(item))\n",
    "    except:\n",
    "        pass\n",
    "    \n",
    "print('{} 내부에 있는 숫자는 {} 입니다'.format(list_input,list_number))"
   ]
  },
  {
   "cell_type": "code",
   "execution_count": 97,
   "id": "c2927c32",
   "metadata": {},
   "outputs": [
    {
     "name": "stdout",
     "output_type": "stream",
     "text": [
      "정수 입력 ㅁ\n",
      "오류발생\n"
     ]
    }
   ],
   "source": [
    "# try:\n",
    "#    예외가 발생할 수 있는 코드\n",
    "# except:\n",
    "#    예외발생시 처리코드\n",
    "# else:\n",
    "#    정상일 때 실행하고자 하는 코드\n",
    "try:\n",
    "    input_number = int(input('정수 입력 '))\n",
    "except:\n",
    "    print('오류발생')\n",
    "else:    \n",
    "    print('원의 반지름:', input_number)\n",
    "    print('원의 둘레:', 2*3.14*input_number)\n",
    "    print('원의 넓이:', input_number**2*3.14)"
   ]
  },
  {
   "cell_type": "code",
   "execution_count": 101,
   "id": "8e8d8157",
   "metadata": {},
   "outputs": [
    {
     "name": "stdout",
     "output_type": "stream",
     "text": [
      "정수 입력 a\n",
      "invalid literal for int() with base 10: 'a'\n",
      "program end!!\n"
     ]
    }
   ],
   "source": [
    "# try:\n",
    "#    예외가 발생할 수 있는 코드\n",
    "# except:\n",
    "#    예외발생시 처리코드\n",
    "# else:\n",
    "#    정상일 때 실행하고자 하는 코드\n",
    "# finally:\n",
    "#    무조건 실행할 코드\n",
    "try:\n",
    "    input_number = int(input('정수 입력 '))\n",
    "except Exception as e:\n",
    "    print(e)\n",
    "else:    \n",
    "    print('원의 반지름:', input_number)\n",
    "    print('원의 둘레:', 2*3.14*input_number)\n",
    "    print('원의 넓이:', input_number**2*3.14)\n",
    "finally:\n",
    "    print(\"program end!!\")"
   ]
  },
  {
   "cell_type": "code",
   "execution_count": 102,
   "id": "3e787af0",
   "metadata": {},
   "outputs": [
    {
     "name": "stdout",
     "output_type": "stream",
     "text": [
      "name 'aa' is not defined\n"
     ]
    }
   ],
   "source": [
    "try:\n",
    "    file = open(\"a.txt\",'w')\n",
    "    file.write('test')\n",
    "    aa+=2\n",
    "except Exception as e:\n",
    "    print(e)\n",
    "finally:\n",
    "    file.close()\n",
    "# file.close() # 맨 마지막에 넣는 것도 가능"
   ]
  },
  {
   "cell_type": "code",
   "execution_count": 103,
   "id": "0e578591",
   "metadata": {},
   "outputs": [
    {
     "name": "stdout",
     "output_type": "stream",
     "text": [
      "try 구문 실행\n",
      "finally 구문 실행\n",
      "while 종료\n"
     ]
    }
   ],
   "source": [
    "#finally의 강력함\n",
    "while True:\n",
    "    try:\n",
    "        print('try 구문 실행')\n",
    "        break\n",
    "    except:\n",
    "        print('except 구문 실행')\n",
    "    finally:\n",
    "        print(\"finally 구문 실행\")\n",
    "\n",
    "print('while 종료')"
   ]
  },
  {
   "cell_type": "code",
   "execution_count": 105,
   "id": "8b45d330",
   "metadata": {},
   "outputs": [
    {
     "name": "stdout",
     "output_type": "stream",
     "text": [
      "try 구문 실행\n",
      "finally 구문 실행\n",
      "end\n"
     ]
    }
   ],
   "source": [
    "def try_func():\n",
    "    try:\n",
    "        print('try 구문 실행')\n",
    "        return\n",
    "    except:\n",
    "        print('except 구문 실행')\n",
    "    finally:\n",
    "        print(\"finally 구문 실행\")\n",
    "\n",
    "try_func()\n",
    "print('end')"
   ]
  },
  {
   "cell_type": "code",
   "execution_count": null,
   "id": "39f22ba5",
   "metadata": {},
   "outputs": [],
   "source": []
  }
 ],
 "metadata": {
  "kernelspec": {
   "display_name": "Python 3 (ipykernel)",
   "language": "python",
   "name": "python3"
  },
  "language_info": {
   "codemirror_mode": {
    "name": "ipython",
    "version": 3
   },
   "file_extension": ".py",
   "mimetype": "text/x-python",
   "name": "python",
   "nbconvert_exporter": "python",
   "pygments_lexer": "ipython3",
   "version": "3.9.7"
  }
 },
 "nbformat": 4,
 "nbformat_minor": 5
}
