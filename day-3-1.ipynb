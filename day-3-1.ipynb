{
 "cells": [
  {
   "cell_type": "code",
   "execution_count": 8,
   "id": "874cdb5b",
   "metadata": {},
   "outputs": [
    {
     "ename": "TypeError",
     "evalue": "test() missing 1 required keyword-only argument: 'n'",
     "output_type": "error",
     "traceback": [
      "\u001b[1;31m---------------------------------------------------------------------------\u001b[0m",
      "\u001b[1;31mTypeError\u001b[0m                                 Traceback (most recent call last)",
      "\u001b[1;32m~\\AppData\\Local\\Temp/ipykernel_6804/3456798337.py\u001b[0m in \u001b[0;36m<module>\u001b[1;34m\u001b[0m\n\u001b[0;32m      3\u001b[0m         \u001b[0mprint\u001b[0m\u001b[1;33m(\u001b[0m\u001b[0mi\u001b[0m\u001b[1;33m,\u001b[0m\u001b[0mend\u001b[0m\u001b[1;33m=\u001b[0m\u001b[1;34m'*'\u001b[0m\u001b[1;33m)\u001b[0m\u001b[1;33m\u001b[0m\u001b[1;33m\u001b[0m\u001b[0m\n\u001b[0;32m      4\u001b[0m \u001b[1;33m\u001b[0m\u001b[0m\n\u001b[1;32m----> 5\u001b[1;33m \u001b[0mtest\u001b[0m\u001b[1;33m(\u001b[0m\u001b[1;34m\"안녕\"\u001b[0m\u001b[1;33m,\u001b[0m\u001b[1;36m1\u001b[0m\u001b[1;33m)\u001b[0m\u001b[1;33m\u001b[0m\u001b[1;33m\u001b[0m\u001b[0m\n\u001b[0m",
      "\u001b[1;31mTypeError\u001b[0m: test() missing 1 required keyword-only argument: 'n'"
     ]
    }
   ],
   "source": [
    "def test(*values, n): #일반 매개변수에 값 안들어감\n",
    "    for i in values:\n",
    "        print(i,end='*')\n",
    "        \n",
    "test(\"안녕\",1) # TypeError: test() missing 1 required keyword-only argument: 'n'\n"
   ]
  },
  {
   "cell_type": "code",
   "execution_count": 19,
   "id": "c216ad45",
   "metadata": {},
   "outputs": [
    {
     "name": "stdout",
     "output_type": "stream",
     "text": [
      "('안녕', '안녕')\n"
     ]
    }
   ],
   "source": [
    "def repeat_print(*value, n=2) :\n",
    "    print(value*n)\n",
    "\n",
    "repeat_print(\"안녕\") # 안녕안녕안녕"
   ]
  },
  {
   "cell_type": "code",
   "execution_count": 22,
   "id": "34750a7f",
   "metadata": {},
   "outputs": [
    {
     "name": "stdout",
     "output_type": "stream",
     "text": [
      "안녕안녕\n",
      "안녕안녕\n",
      "6\n"
     ]
    }
   ],
   "source": [
    "def re_print(*values, n=2):\n",
    "  for value in values:\n",
    "    print(value*n)\n",
    "\n",
    "re_print(\"안녕\")\n",
    "re_print(\"안녕\",3)"
   ]
  },
  {
   "cell_type": "code",
   "execution_count": 29,
   "id": "a210226d",
   "metadata": {},
   "outputs": [],
   "source": [
    "def test2(n=2, *values) :\n",
    "    for value in values:\n",
    "        print(value*n)\n",
    "\n",
    "test2(\"안녕\")# n에 \"안녕\"이 할당되고 values에는 아무것도 없기때문에 for문이 실행되지않고 끝나버림.\n",
    "#아무것도 출력하지 않음."
   ]
  },
  {
   "cell_type": "code",
   "execution_count": 35,
   "id": "3f2ec8ba",
   "metadata": {},
   "outputs": [
    {
     "name": "stdout",
     "output_type": "stream",
     "text": [
      "안녕안녕\n"
     ]
    }
   ],
   "source": [
    "def test3(*values,n=2) :\n",
    "    for value in values:\n",
    "        print(value*n)\n",
    "\n",
    "test3(\"안녕\")"
   ]
  },
  {
   "cell_type": "code",
   "execution_count": 37,
   "id": "e61a9141",
   "metadata": {},
   "outputs": [
    {
     "name": "stdout",
     "output_type": "stream",
     "text": [
      "안녕안녕안녕\n",
      "안녕안녕안녕\n"
     ]
    }
   ],
   "source": [
    "def re_line_print(*values, n=2, l=1):\n",
    "  for i in range(l) :\n",
    "    for value in values:\n",
    "      print(value*n)\n",
    "    \n",
    "re_line_print('안녕',l=2,n=3)"
   ]
  },
  {
   "cell_type": "code",
   "execution_count": 40,
   "id": "b254cc47",
   "metadata": {},
   "outputs": [
    {
     "name": "stdout",
     "output_type": "stream",
     "text": [
      "a\n",
      "a\n",
      "None\n"
     ]
    }
   ],
   "source": [
    "def return_test() :\n",
    "  print('a')\n",
    "  return\n",
    "  print('b')\n",
    "\n",
    "return_test()  # a만 출력됨\n",
    "\n",
    "value = return_test()\n",
    "print(value) # None -> 파이썬에서 없"
   ]
  },
  {
   "cell_type": "code",
   "execution_count": 38,
   "id": "d61e0efc",
   "metadata": {},
   "outputs": [
    {
     "name": "stdout",
     "output_type": "stream",
     "text": [
      "이름 성적 입력 (종료는 'q'): a 10\n",
      "이름 성적 입력 (종료는 'q'): b 20\n",
      "이름 성적 입력 (종료는 'q'): c 30\n",
      "이름 성적 입력 (종료는 'q'): q\n",
      "검색할 이름 입력 : a\n",
      "10\n"
     ]
    }
   ],
   "source": [
    "def input_data():\n",
    "    student = {}\n",
    "    while True:\n",
    "        input_data = input(\"이름 성적 입력 (종료는 'q'): \").split()\n",
    "        if input_data[0] == 'q':\n",
    "            break\n",
    "        elif len(input_data) < 2:\n",
    "            continue\n",
    "        elif not input_data[1].isdigit():\n",
    "            continue\n",
    "        student[input_data[0]] = int(input_data[1])\n",
    "    return student\n",
    "\n",
    "def search_data(student):\n",
    "    search_name = input(\"검색할 이름 입력 : \")\n",
    "    for key in student:\n",
    "        if key == search_name:\n",
    "            return key\n",
    "    return\n",
    "###################\n",
    "student = input_data()\n",
    "key = search_data(student)\n",
    "if key:\n",
    "    print(student[key])\n",
    "else:\n",
    "    print('검색결과가 없음')\n"
   ]
  },
  {
   "cell_type": "code",
   "execution_count": null,
   "id": "4063ec53",
   "metadata": {},
   "outputs": [],
   "source": []
  }
 ],
 "metadata": {
  "kernelspec": {
   "display_name": "Python 3 (ipykernel)",
   "language": "python",
   "name": "python3"
  },
  "language_info": {
   "codemirror_mode": {
    "name": "ipython",
    "version": 3
   },
   "file_extension": ".py",
   "mimetype": "text/x-python",
   "name": "python",
   "nbconvert_exporter": "python",
   "pygments_lexer": "ipython3",
   "version": "3.9.7"
  }
 },
 "nbformat": 4,
 "nbformat_minor": 5
}
