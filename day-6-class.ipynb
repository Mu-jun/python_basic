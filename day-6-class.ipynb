{
 "cells": [
  {
   "cell_type": "code",
   "execution_count": 3,
   "id": "daa350a6",
   "metadata": {},
   "outputs": [
    {
     "name": "stdout",
     "output_type": "stream",
     "text": [
      "A - 생성\n",
      "A - 소멸\n",
      "B - 생성\n",
      "B - 소멸\n",
      "C - 생성\n",
      "C - 소멸\n",
      "\n"
     ]
    }
   ],
   "source": [
    "# 가비지 컬렉션\n",
    "class Test:\n",
    "    def __init__(self, name):\n",
    "        self.name = name\n",
    "        print('{} - 생성'.format(self.name))\n",
    "    def __del__(self):\n",
    "        print(\"{} - 소멸\".format(self.name))\n",
    "\n",
    "Test('A')        \n",
    "Test('B')\n",
    "Test('C')\n",
    "print()"
   ]
  },
  {
   "cell_type": "code",
   "execution_count": 17,
   "id": "d2d5fbaf",
   "metadata": {},
   "outputs": [],
   "source": [
    "# 프라이빗 변수: 클래스 내부에서만 접근 가능한 변수\n",
    "import math\n",
    "\n",
    "class Circle:\n",
    "    def __init__(self,radius):\n",
    "        self.__radius = radius\n",
    "    def get_circum(self):\n",
    "        return self.__radius * math.pi * 2\n",
    "    def get_area(self):\n",
    "        return math.pi * self.__radius**2\n",
    "    # 게터 함수 정의\n",
    "    def get_radius(self):\n",
    "        return self.__radius\n",
    "    @property\n",
    "    def radius(self):\n",
    "        return self.__radius\n",
    "    # 세터 함수 정의\n",
    "    def set_radius(self, value):\n",
    "        self.__radius = value\n",
    "    @radius.setter\n",
    "    def radius(self, value):\n",
    "        self.__radius = value"
   ]
  },
  {
   "cell_type": "code",
   "execution_count": 18,
   "id": "27adcf96",
   "metadata": {},
   "outputs": [
    {
     "name": "stdout",
     "output_type": "stream",
     "text": [
      "원의 둘레: 62.83185307179586\n",
      "원의 넓이: 314.1592653589793\n",
      "원의 반지름: 10\n",
      "원의 반지름: 20\n"
     ]
    }
   ],
   "source": [
    "circle = Circle(10)\n",
    "print('원의 둘레:', circle.get_circum())\n",
    "print('원의 넓이:', circle.get_area())\n",
    "# print('원의 반지름:', circle_10.__radius) # AttributeError: 'Circle' object has no attribute '__radius'\n",
    "print('원의 반지름:', circle.get_radius())\n",
    "circle.set_radius(20)\n",
    "print('원의 반지름:', circle.get_radius())"
   ]
  },
  {
   "cell_type": "code",
   "execution_count": 19,
   "id": "84a767ee",
   "metadata": {},
   "outputs": [],
   "source": [
    "# 프라이빗 변수: 클래스 내부에서만 접근 가능한 변수\n",
    "import math\n",
    "\n",
    "class Circle:\n",
    "    def __init__(self,radius):\n",
    "        self.__radius = radius\n",
    "    def get_circum(self):\n",
    "        return self.__radius * math.pi * 2\n",
    "    def get_area(self):\n",
    "        return math.pi * self.__radius**2\n",
    "    # 게터 함수 정의\n",
    "    @property\n",
    "    def radius(self):\n",
    "        return self.__radius\n",
    "    # 세터 함수 정의\n",
    "    @radius.setter\n",
    "    def radius(self, value):\n",
    "        self.__radius = value"
   ]
  },
  {
   "cell_type": "code",
   "execution_count": 20,
   "id": "3d373f32",
   "metadata": {},
   "outputs": [
    {
     "name": "stdout",
     "output_type": "stream",
     "text": [
      "원의 반지름: 10\n",
      "원의 반지름: 20\n"
     ]
    }
   ],
   "source": [
    "circle = Circle(10)\n",
    "print('원의 반지름:', circle.radius)\n",
    "circle.radius = 20\n",
    "print('원의 반지름:', circle.radius)"
   ]
  },
  {
   "cell_type": "code",
   "execution_count": 23,
   "id": "536338e3",
   "metadata": {},
   "outputs": [],
   "source": [
    "# 클래스 상속\n",
    "class Parent:\n",
    "    def __init__(self):\n",
    "        self.value = \"테스트\"\n",
    "        print(\"Parent class __init__() 메소드 호출\")\n",
    "    def test(self):\n",
    "        print(\"Parent class test() 호출\")\n",
    "\n",
    "class Child(Parent):\n",
    "    def __init__(self):\n",
    "        print(\"Child class __init__() 호출\")"
   ]
  },
  {
   "cell_type": "code",
   "execution_count": 24,
   "id": "be095c1d",
   "metadata": {},
   "outputs": [
    {
     "name": "stdout",
     "output_type": "stream",
     "text": [
      "Child class __init__() 호출\n",
      "Parent class test() 호출\n"
     ]
    },
    {
     "ename": "AttributeError",
     "evalue": "'Child' object has no attribute 'value'",
     "output_type": "error",
     "traceback": [
      "\u001b[1;31m---------------------------------------------------------------------------\u001b[0m",
      "\u001b[1;31mAttributeError\u001b[0m                            Traceback (most recent call last)",
      "\u001b[1;32m~\\AppData\\Local\\Temp/ipykernel_7356/2486596564.py\u001b[0m in \u001b[0;36m<module>\u001b[1;34m\u001b[0m\n\u001b[0;32m      1\u001b[0m \u001b[0mchild\u001b[0m \u001b[1;33m=\u001b[0m \u001b[0mChild\u001b[0m\u001b[1;33m(\u001b[0m\u001b[1;33m)\u001b[0m\u001b[1;33m\u001b[0m\u001b[1;33m\u001b[0m\u001b[0m\n\u001b[0;32m      2\u001b[0m \u001b[0mchild\u001b[0m\u001b[1;33m.\u001b[0m\u001b[0mtest\u001b[0m\u001b[1;33m(\u001b[0m\u001b[1;33m)\u001b[0m\u001b[1;33m\u001b[0m\u001b[1;33m\u001b[0m\u001b[0m\n\u001b[1;32m----> 3\u001b[1;33m \u001b[0mprint\u001b[0m\u001b[1;33m(\u001b[0m\u001b[0mchild\u001b[0m\u001b[1;33m.\u001b[0m\u001b[0mvalue\u001b[0m\u001b[1;33m)\u001b[0m\u001b[1;33m\u001b[0m\u001b[1;33m\u001b[0m\u001b[0m\n\u001b[0m",
      "\u001b[1;31mAttributeError\u001b[0m: 'Child' object has no attribute 'value'"
     ]
    }
   ],
   "source": [
    "child = Child()\n",
    "child.test()\n",
    "print(child.value)"
   ]
  },
  {
   "cell_type": "code",
   "execution_count": 25,
   "id": "b859de66",
   "metadata": {},
   "outputs": [],
   "source": [
    "# 클래스 상속\n",
    "class Parent:\n",
    "    def __init__(self):\n",
    "        self.value = \"테스트\"\n",
    "        print(\"Parent class __init__() 메소드 호출\")\n",
    "    def test(self):\n",
    "        print(\"Parent class test() 호출\")\n",
    "\n",
    "class Child(Parent):\n",
    "    def __init__(self):\n",
    "        Parent.__init__(self)\n",
    "        print(\"Child class __init__() 호출\")"
   ]
  },
  {
   "cell_type": "code",
   "execution_count": 26,
   "id": "e28c1c1f",
   "metadata": {},
   "outputs": [
    {
     "name": "stdout",
     "output_type": "stream",
     "text": [
      "Parent class __init__() 메소드 호출\n",
      "Child class __init__() 호출\n",
      "Parent class test() 호출\n",
      "테스트\n"
     ]
    }
   ],
   "source": [
    "child = Child()\n",
    "child.test()\n",
    "print(child.value)"
   ]
  },
  {
   "cell_type": "code",
   "execution_count": null,
   "id": "9419d2fd",
   "metadata": {},
   "outputs": [],
   "source": []
  }
 ],
 "metadata": {
  "kernelspec": {
   "display_name": "Python 3 (ipykernel)",
   "language": "python",
   "name": "python3"
  },
  "language_info": {
   "codemirror_mode": {
    "name": "ipython",
    "version": 3
   },
   "file_extension": ".py",
   "mimetype": "text/x-python",
   "name": "python",
   "nbconvert_exporter": "python",
   "pygments_lexer": "ipython3",
   "version": "3.9.7"
  }
 },
 "nbformat": 4,
 "nbformat_minor": 5
}
