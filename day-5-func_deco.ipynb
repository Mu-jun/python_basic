{
 "cells": [
  {
   "cell_type": "code",
   "execution_count": 4,
   "id": "b19aab79",
   "metadata": {},
   "outputs": [
    {
     "name": "stdout",
     "output_type": "stream",
     "text": [
      "함수 시작\n",
      "hello\n",
      "함수 종료\n"
     ]
    }
   ],
   "source": [
    "# 함수 데코레이터\n",
    "def test(function):\n",
    "    def wrapper():\n",
    "        print('함수 시작')\n",
    "        function()\n",
    "        print('함수 종료')\n",
    "    return wrapper\n",
    "\n",
    "#데코레이터 함수 정의\n",
    "@test\n",
    "def hello():\n",
    "    print('hello')\n",
    "    \n",
    "#함수 호출\n",
    "hello()"
   ]
  },
  {
   "cell_type": "code",
   "execution_count": null,
   "id": "deddb892",
   "metadata": {},
   "outputs": [],
   "source": []
  }
 ],
 "metadata": {
  "kernelspec": {
   "display_name": "Python 3 (ipykernel)",
   "language": "python",
   "name": "python3"
  },
  "language_info": {
   "codemirror_mode": {
    "name": "ipython",
    "version": 3
   },
   "file_extension": ".py",
   "mimetype": "text/x-python",
   "name": "python",
   "nbconvert_exporter": "python",
   "pygments_lexer": "ipython3",
   "version": "3.9.7"
  }
 },
 "nbformat": 4,
 "nbformat_minor": 5
}
