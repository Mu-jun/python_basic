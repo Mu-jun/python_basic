{
 "cells": [
  {
   "cell_type": "markdown",
   "id": "4881658a",
   "metadata": {},
   "source": [
    "a = 10\n",
    "a"
   ]
  },
  {
   "cell_type": "code",
   "execution_count": 2,
   "id": "4dec1cd4",
   "metadata": {},
   "outputs": [
    {
     "data": {
      "text/plain": [
       "30"
      ]
     },
     "execution_count": 2,
     "metadata": {},
     "output_type": "execute_result"
    }
   ],
   "source": [
    "b = 30\n",
    "b"
   ]
  },
  {
   "cell_type": "markdown",
   "id": "7486fbde",
   "metadata": {},
   "source": [
    "### cell\n",
    "1. 설명\n",
    "2. python"
   ]
  },
  {
   "cell_type": "code",
   "execution_count": 3,
   "id": "9c9d68fd",
   "metadata": {
    "scrolled": true
   },
   "outputs": [
    {
     "name": "stdout",
     "output_type": "stream",
     "text": [
      "['False', 'None', 'True', '__peg_parser__', 'and', 'as', 'assert', 'async', 'await', 'break', 'class', 'continue', 'def', 'del', 'elif', 'else', 'except', 'finally', 'for', 'from', 'global', 'if', 'import', 'in', 'is', 'lambda', 'nonlocal', 'not', 'or', 'pass', 'raise', 'return', 'try', 'while', 'with', 'yield']\n"
     ]
    }
   ],
   "source": [
    "#키워드 확인\n",
    "import keyword\n",
    "print(keyword.kwlist)"
   ]
  },
  {
   "cell_type": "code",
   "execution_count": 4,
   "id": "955e0c93",
   "metadata": {
    "scrolled": true
   },
   "outputs": [
    {
     "name": "stdout",
     "output_type": "stream",
     "text": [
      "# 하나만 출력\n",
      "Hello python Programming!! \n",
      "\n",
      "10 20 test\n",
      "\n",
      "아무것도 출력 하지 않음\n",
      "\n",
      "확인\n"
     ]
    }
   ],
   "source": [
    "print(\"# 하나만 출력\")\n",
    "print('Hello python Programming!! ')\n",
    "print()\n",
    "\n",
    "# 여러 개를 출력\n",
    "print(10,20, \"test\")\n",
    "print()\n",
    "\n",
    "# 빈줄 출력\n",
    "print(\"아무것도 출력 하지 않음\")\n",
    "print()\n",
    "print('확인')"
   ]
  },
  {
   "cell_type": "code",
   "execution_count": 6,
   "id": "67c6b9cd",
   "metadata": {},
   "outputs": [
    {
     "name": "stdout",
     "output_type": "stream",
     "text": [
      "동해물과 백두산이\n",
      "마르고 닳도록\n",
      "우리나라만세\n"
     ]
    }
   ],
   "source": [
    "print(\"\"\"동해물과 백두산이\n",
    "마르고 닳도록\n",
    "우리나라만세\"\"\")"
   ]
  },
  {
   "cell_type": "code",
   "execution_count": 7,
   "id": "a15ba256",
   "metadata": {},
   "outputs": [
    {
     "name": "stdout",
     "output_type": "stream",
     "text": [
      "\n",
      "동해물과 백두산이\n",
      "마르고 닳도록\n",
      "우리나라만세\n",
      "\n"
     ]
    }
   ],
   "source": [
    "print(\"\"\"\n",
    "동해물과 백두산이\n",
    "마르고 닳도록\n",
    "우리나라만세\n",
    "\"\"\")"
   ]
  },
  {
   "cell_type": "code",
   "execution_count": 8,
   "id": "91ca2341",
   "metadata": {},
   "outputs": [
    {
     "name": "stdout",
     "output_type": "stream",
     "text": [
      "동해물과 백두산이\n",
      "마르고 닳도록\n",
      "우리나라만세\n"
     ]
    }
   ],
   "source": [
    "print(\"\"\"\\\n",
    "동해물과 백두산이\n",
    "마르고 닳도록\n",
    "우리나라만세\\\n",
    "\"\"\")"
   ]
  },
  {
   "cell_type": "code",
   "execution_count": 11,
   "id": "2e756246",
   "metadata": {},
   "outputs": [
    {
     "name": "stdout",
     "output_type": "stream",
     "text": [
      "하세\n",
      "하세요\n"
     ]
    }
   ],
   "source": [
    "print(\"안녕하세요\"[2:-1])\n",
    "print(\"안녕하세요\"[2:])"
   ]
  },
  {
   "cell_type": "code",
   "execution_count": 12,
   "id": "180015bc",
   "metadata": {},
   "outputs": [
    {
     "ename": "SyntaxError",
     "evalue": "invalid syntax (Temp/ipykernel_9868/1577699808.py, line 1)",
     "output_type": "error",
     "traceback": [
      "\u001b[1;36m  File \u001b[1;32m\"C:\\Users\\Mu-jun\\AppData\\Local\\Temp/ipykernel_9868/1577699808.py\"\u001b[1;36m, line \u001b[1;32m1\u001b[0m\n\u001b[1;33m    print(\"\"안녕하세요\"\")\u001b[0m\n\u001b[1;37m            ^\u001b[0m\n\u001b[1;31mSyntaxError\u001b[0m\u001b[1;31m:\u001b[0m invalid syntax\n"
     ]
    }
   ],
   "source": [
    "print(\"\"안녕하세요\"\")"
   ]
  },
  {
   "cell_type": "code",
   "execution_count": 13,
   "id": "4a55ba5a",
   "metadata": {},
   "outputs": [
    {
     "name": "stdout",
     "output_type": "stream",
     "text": [
      "안녕안녕안녕하세요\n"
     ]
    }
   ],
   "source": [
    "print(\"안녕\"*3+\"하세요\")"
   ]
  },
  {
   "cell_type": "code",
   "execution_count": 19,
   "id": "1f5b6d26",
   "metadata": {},
   "outputs": [
    {
     "name": "stdout",
     "output_type": "stream",
     "text": [
      "안녕하세요\n"
     ]
    }
   ],
   "source": [
    "print(\"안녕하세요\"[ : ])"
   ]
  },
  {
   "cell_type": "code",
   "execution_count": 20,
   "id": "f4a7f132",
   "metadata": {},
   "outputs": [
    {
     "name": "stdout",
     "output_type": "stream",
     "text": [
      "60\n",
      "5\n",
      "6\n",
      "1.5\n",
      "1\n",
      "1\n"
     ]
    }
   ],
   "source": [
    "# 숫자 연산\n",
    "print(40+20)\n",
    "a = 3\n",
    "b = 2\n",
    "print(a+b)\n",
    "print(a*b)\n",
    "print(a/b)\n",
    "print(a//b)\n",
    "print(a%b)"
   ]
  },
  {
   "cell_type": "code",
   "execution_count": 22,
   "id": "12e4d3cf",
   "metadata": {},
   "outputs": [
    {
     "name": "stdout",
     "output_type": "stream",
     "text": [
      "<class 'bool'>\n"
     ]
    }
   ],
   "source": [
    "print( type(not True))"
   ]
  },
  {
   "cell_type": "code",
   "execution_count": 35,
   "id": "586b66d2",
   "metadata": {},
   "outputs": [
    {
     "name": "stdout",
     "output_type": "stream",
     "text": [
      "실수입력 :123.123\n",
      "133.123\n",
      "1231.23\n"
     ]
    }
   ],
   "source": [
    "x = input(\"실수입력 :\")\n",
    "print(float(x)+10,float(x)*10,sep='\\n')"
   ]
  },
  {
   "cell_type": "code",
   "execution_count": 34,
   "id": "77793da2",
   "metadata": {},
   "outputs": [
    {
     "name": "stdout",
     "output_type": "stream",
     "text": [
      "실수입력 :123.123\n",
      "133.123 1231.23\n"
     ]
    }
   ],
   "source": [
    "x = float(input(\"실수입력 :\"))\n",
    "print(x+10,x*10)"
   ]
  },
  {
   "cell_type": "code",
   "execution_count": 38,
   "id": "07c104dd",
   "metadata": {},
   "outputs": [
    {
     "name": "stdout",
     "output_type": "stream",
     "text": [
      "6기 파이썬 인공지능 과정\n",
      "시작일 : 2022-2-28\n"
     ]
    }
   ],
   "source": [
    "print(\"\"\"{}기 파이썬 인공지능 과정\n",
    "시작일 : {}\"\"\".format(6,'2022-2-28'))"
   ]
  },
  {
   "cell_type": "code",
   "execution_count": 39,
   "id": "348a478c",
   "metadata": {},
   "outputs": [],
   "source": [
    "str1 = \"{}\""
   ]
  },
  {
   "cell_type": "code",
   "execution_count": 40,
   "id": "c061ec48",
   "metadata": {},
   "outputs": [
    {
     "name": "stdout",
     "output_type": "stream",
     "text": [
      "{}\n"
     ]
    }
   ],
   "source": [
    "print(str1)"
   ]
  },
  {
   "cell_type": "code",
   "execution_count": 41,
   "id": "ef780b1a",
   "metadata": {},
   "outputs": [
    {
     "name": "stdout",
     "output_type": "stream",
     "text": [
      "1\n"
     ]
    }
   ],
   "source": [
    "print(str1.format(1))"
   ]
  },
  {
   "cell_type": "code",
   "execution_count": 44,
   "id": "82405307",
   "metadata": {},
   "outputs": [
    {
     "name": "stdout",
     "output_type": "stream",
     "text": [
      "1\n"
     ]
    }
   ],
   "source": [
    "x = int(' 1')\n",
    "print(x)"
   ]
  },
  {
   "cell_type": "code",
   "execution_count": 45,
   "id": "cd71f7c6",
   "metadata": {},
   "outputs": [
    {
     "name": "stdout",
     "output_type": "stream",
     "text": [
      "1\n"
     ]
    }
   ],
   "source": [
    "x = int('1 ')\n",
    "print(x)"
   ]
  },
  {
   "cell_type": "code",
   "execution_count": 46,
   "id": "cd04d8d9",
   "metadata": {},
   "outputs": [
    {
     "name": "stdout",
     "output_type": "stream",
     "text": [
      "False\n"
     ]
    }
   ],
   "source": [
    "print(\" \".isalnum())"
   ]
  },
  {
   "cell_type": "code",
   "execution_count": 60,
   "id": "ef436995",
   "metadata": {},
   "outputs": [
    {
     "name": "stdout",
     "output_type": "stream",
     "text": [
      "False\n"
     ]
    }
   ],
   "source": [
    "s = '11.1'\n",
    "print(s.isdigit())"
   ]
  },
  {
   "cell_type": "code",
   "execution_count": 74,
   "id": "55c44a81",
   "metadata": {},
   "outputs": [
    {
     "name": "stdout",
     "output_type": "stream",
     "text": [
      "a정수입력: 123\n",
      "b정수입력: 234\n",
      "a+b=357\n",
      "a*b=28782\n"
     ]
    }
   ],
   "source": [
    "a = int(input(\"a정수입력: \"))\n",
    "b = int(input(\"b정수입력: \"))\n",
    "print(\"a+b={}\\na*b={}\".format(a+b,a*b))"
   ]
  },
  {
   "cell_type": "code",
   "execution_count": 78,
   "id": "61b91822",
   "metadata": {},
   "outputs": [
    {
     "name": "stdout",
     "output_type": "stream",
     "text": [
      "공백을 포함한 문자열 입력:나는 나비 훨훨 날아\n",
      "나는 나비 훨훨 날아\n",
      "나는 나비 훨훨 날아\n",
      "['나는', '나비', '훨훨', '날아']\n",
      "나비\n"
     ]
    }
   ],
   "source": [
    "input_str = input(\"공백을 포함한 문자열 입력:\")\n",
    "print(input_str)\n",
    "print(input_str.strip())\n",
    "print(input_str.split())\n",
    "print(input_str.split()[1])"
   ]
  },
  {
   "cell_type": "code",
   "execution_count": 79,
   "id": "434de4f8",
   "metadata": {},
   "outputs": [
    {
     "ename": "IndexError",
     "evalue": "Replacement index 1 out of range for positional args tuple",
     "output_type": "error",
     "traceback": [
      "\u001b[1;31m---------------------------------------------------------------------------\u001b[0m",
      "\u001b[1;31mIndexError\u001b[0m                                Traceback (most recent call last)",
      "\u001b[1;32m~\\AppData\\Local\\Temp/ipykernel_9868/756365550.py\u001b[0m in \u001b[0;36m<module>\u001b[1;34m\u001b[0m\n\u001b[1;32m----> 1\u001b[1;33m \u001b[0mprint\u001b[0m\u001b[1;33m(\u001b[0m \u001b[1;34m\"오늘은 {}월 {}일 입니다.\"\u001b[0m\u001b[1;33m.\u001b[0m\u001b[0mformat\u001b[0m\u001b[1;33m(\u001b[0m \u001b[1;36m3\u001b[0m \u001b[1;33m)\u001b[0m\u001b[1;33m)\u001b[0m\u001b[1;33m\u001b[0m\u001b[1;33m\u001b[0m\u001b[0m\n\u001b[0m",
      "\u001b[1;31mIndexError\u001b[0m: Replacement index 1 out of range for positional args tuple"
     ]
    }
   ],
   "source": [
    "print( \"오늘은 {}월 {}일 입니다.\".format( 3 ))"
   ]
  },
  {
   "cell_type": "code",
   "execution_count": 80,
   "id": "a29db809",
   "metadata": {},
   "outputs": [
    {
     "data": {
      "text/plain": [
       "False"
      ]
     },
     "execution_count": 80,
     "metadata": {},
     "output_type": "execute_result"
    }
   ],
   "source": [
    "\"안녕하세요\".islower()"
   ]
  },
  {
   "cell_type": "code",
   "execution_count": 81,
   "id": "90114198",
   "metadata": {},
   "outputs": [
    {
     "data": {
      "text/plain": [
       "False"
      ]
     },
     "execution_count": 81,
     "metadata": {},
     "output_type": "execute_result"
    }
   ],
   "source": [
    "\"안녕하세요\".isupper()"
   ]
  },
  {
   "cell_type": "code",
   "execution_count": 4,
   "id": "b31b9bf3",
   "metadata": {},
   "outputs": [
    {
     "name": "stdout",
     "output_type": "stream",
     "text": [
      "1.4142135623730951\n"
     ]
    }
   ],
   "source": [
    "print(2**0.5)"
   ]
  },
  {
   "cell_type": "code",
   "execution_count": 5,
   "id": "f26f8378",
   "metadata": {},
   "outputs": [
    {
     "name": "stdout",
     "output_type": "stream",
     "text": [
      "2.0\n"
     ]
    }
   ],
   "source": [
    "print(2/1)"
   ]
  },
  {
   "cell_type": "code",
   "execution_count": 2,
   "id": "17b5a3a1",
   "metadata": {},
   "outputs": [
    {
     "name": "stdout",
     "output_type": "stream",
     "text": [
      "0.5\n"
     ]
    }
   ],
   "source": [
    "print(3%2.5)"
   ]
  },
  {
   "cell_type": "code",
   "execution_count": null,
   "id": "81226c93",
   "metadata": {},
   "outputs": [],
   "source": []
  }
 ],
 "metadata": {
  "kernelspec": {
   "display_name": "Python 3 (ipykernel)",
   "language": "python",
   "name": "python3"
  },
  "language_info": {
   "codemirror_mode": {
    "name": "ipython",
    "version": 3
   },
   "file_extension": ".py",
   "mimetype": "text/x-python",
   "name": "python",
   "nbconvert_exporter": "python",
   "pygments_lexer": "ipython3",
   "version": "3.9.7"
  }
 },
 "nbformat": 4,
 "nbformat_minor": 5
}
